{
  "nbformat": 4,
  "nbformat_minor": 0,
  "metadata": {
    "colab": {
      "provenance": [],
      "gpuType": "T4",
      "machine_shape": "hm"
    },
    "kernelspec": {
      "name": "python3",
      "display_name": "Python 3"
    },
    "language_info": {
      "name": "python"
    },
    "accelerator": "GPU"
  },
  "cells": [
    {
      "cell_type": "code",
      "execution_count": 41,
      "metadata": {
        "colab": {
          "base_uri": "https://localhost:8080/"
        },
        "id": "ycoJ7pYHzVdr",
        "outputId": "545ad2ef-21ed-4109-80b2-55bb524616b7"
      },
      "outputs": [
        {
          "output_type": "stream",
          "name": "stdout",
          "text": [
            "Drive already mounted at /content/drive; to attempt to forcibly remount, call drive.mount(\"/content/drive\", force_remount=True).\n"
          ]
        }
      ],
      "source": [
        "from google.colab import drive\n",
        "drive.mount('/content/drive')"
      ]
    },
    {
      "cell_type": "code",
      "source": [
        "import os\n",
        "\n",
        "DATASET_PATH = '/content/drive/MyDrive/DL/Train'\n",
        "\n",
        "wav_files = [f for f in os.listdir(DATASET_PATH) if f.endswith(\".wav\")]\n",
        "print(f\"Total amount .wav files: {len(wav_files)}\")\n"
      ],
      "metadata": {
        "id": "I6IQbt5R7X7Y",
        "colab": {
          "base_uri": "https://localhost:8080/"
        },
        "outputId": "732f6906-8dc1-4e74-c4ce-5d4a783235a8"
      },
      "execution_count": 42,
      "outputs": [
        {
          "output_type": "stream",
          "name": "stdout",
          "text": [
            "Total amount .wav files: 3166\n"
          ]
        }
      ]
    },
    {
      "cell_type": "code",
      "source": [
        "!pip install librosa"
      ],
      "metadata": {
        "colab": {
          "base_uri": "https://localhost:8080/"
        },
        "id": "sEqVYRY7nPSW",
        "outputId": "6635cee0-52db-4b45-c639-f169e6890bd6"
      },
      "execution_count": 43,
      "outputs": [
        {
          "output_type": "stream",
          "name": "stdout",
          "text": [
            "Requirement already satisfied: librosa in /usr/local/lib/python3.11/dist-packages (0.11.0)\n",
            "Requirement already satisfied: audioread>=2.1.9 in /usr/local/lib/python3.11/dist-packages (from librosa) (3.0.1)\n",
            "Requirement already satisfied: numba>=0.51.0 in /usr/local/lib/python3.11/dist-packages (from librosa) (0.60.0)\n",
            "Requirement already satisfied: numpy>=1.22.3 in /usr/local/lib/python3.11/dist-packages (from librosa) (2.0.2)\n",
            "Requirement already satisfied: scipy>=1.6.0 in /usr/local/lib/python3.11/dist-packages (from librosa) (1.15.3)\n",
            "Requirement already satisfied: scikit-learn>=1.1.0 in /usr/local/lib/python3.11/dist-packages (from librosa) (1.6.1)\n",
            "Requirement already satisfied: joblib>=1.0 in /usr/local/lib/python3.11/dist-packages (from librosa) (1.5.0)\n",
            "Requirement already satisfied: decorator>=4.3.0 in /usr/local/lib/python3.11/dist-packages (from librosa) (4.4.2)\n",
            "Requirement already satisfied: soundfile>=0.12.1 in /usr/local/lib/python3.11/dist-packages (from librosa) (0.13.1)\n",
            "Requirement already satisfied: pooch>=1.1 in /usr/local/lib/python3.11/dist-packages (from librosa) (1.8.2)\n",
            "Requirement already satisfied: soxr>=0.3.2 in /usr/local/lib/python3.11/dist-packages (from librosa) (0.5.0.post1)\n",
            "Requirement already satisfied: typing_extensions>=4.1.1 in /usr/local/lib/python3.11/dist-packages (from librosa) (4.13.2)\n",
            "Requirement already satisfied: lazy_loader>=0.1 in /usr/local/lib/python3.11/dist-packages (from librosa) (0.4)\n",
            "Requirement already satisfied: msgpack>=1.0 in /usr/local/lib/python3.11/dist-packages (from librosa) (1.1.0)\n",
            "Requirement already satisfied: packaging in /usr/local/lib/python3.11/dist-packages (from lazy_loader>=0.1->librosa) (24.2)\n",
            "Requirement already satisfied: llvmlite<0.44,>=0.43.0dev0 in /usr/local/lib/python3.11/dist-packages (from numba>=0.51.0->librosa) (0.43.0)\n",
            "Requirement already satisfied: platformdirs>=2.5.0 in /usr/local/lib/python3.11/dist-packages (from pooch>=1.1->librosa) (4.3.8)\n",
            "Requirement already satisfied: requests>=2.19.0 in /usr/local/lib/python3.11/dist-packages (from pooch>=1.1->librosa) (2.32.3)\n",
            "Requirement already satisfied: threadpoolctl>=3.1.0 in /usr/local/lib/python3.11/dist-packages (from scikit-learn>=1.1.0->librosa) (3.6.0)\n",
            "Requirement already satisfied: cffi>=1.0 in /usr/local/lib/python3.11/dist-packages (from soundfile>=0.12.1->librosa) (1.17.1)\n",
            "Requirement already satisfied: pycparser in /usr/local/lib/python3.11/dist-packages (from cffi>=1.0->soundfile>=0.12.1->librosa) (2.22)\n",
            "Requirement already satisfied: charset-normalizer<4,>=2 in /usr/local/lib/python3.11/dist-packages (from requests>=2.19.0->pooch>=1.1->librosa) (3.4.2)\n",
            "Requirement already satisfied: idna<4,>=2.5 in /usr/local/lib/python3.11/dist-packages (from requests>=2.19.0->pooch>=1.1->librosa) (3.10)\n",
            "Requirement already satisfied: urllib3<3,>=1.21.1 in /usr/local/lib/python3.11/dist-packages (from requests>=2.19.0->pooch>=1.1->librosa) (2.4.0)\n",
            "Requirement already satisfied: certifi>=2017.4.17 in /usr/local/lib/python3.11/dist-packages (from requests>=2.19.0->pooch>=1.1->librosa) (2025.4.26)\n"
          ]
        }
      ]
    },
    {
      "cell_type": "code",
      "source": [
        "import librosa\n",
        "import matplotlib.pyplot as plt\n",
        "\n",
        "file_path = os.path.join(DATASET_PATH, wav_files[0])\n",
        "\n",
        "#Loading audio at fixed sample rate (16kHz)\n",
        "signal, sr = librosa.load(file_path, sr=16000)\n",
        "print(f\"{wav_files[0]}: {len(signal)} samples, sample rate = {sr}\")\n",
        "\n",
        "plt.figure(figsize=(10, 2))\n",
        "plt.plot(signal)\n",
        "plt.title(\"Waveform\")\n",
        "plt.xlabel(\"Samples\")\n",
        "plt.ylabel(\"Amplitude\")\n",
        "plt.show()"
      ],
      "metadata": {
        "colab": {
          "base_uri": "https://localhost:8080/",
          "height": 273
        },
        "id": "8AyTTvSTnShX",
        "outputId": "21a73fb9-9009-4d2e-93b4-761b87f2c672"
      },
      "execution_count": 44,
      "outputs": [
        {
          "output_type": "stream",
          "name": "stdout",
          "text": [
            "4f_7142.wav: 144725 samples, sample rate = 16000\n"
          ]
        },
        {
          "output_type": "display_data",
          "data": {
            "text/plain": [
              "<Figure size 1000x200 with 1 Axes>"
            ],
            "image/png": "[encoded data removed]"
          },
          "metadata": {}
        }
      ]
    },
    {
      "cell_type": "code",
      "source": [
        "import os\n",
        "import librosa\n",
        "import numpy as np\n",
        "from tqdm import tqdm\n",
        "\n",
        "#Initialising the training dateset, listing audiofiles in directory and defining audio settings:\n",
        "DATASET_PATH = '/content/drive/MyDrive/DL/Train'\n",
        "audio_filenames = [file for file in os.listdir(DATASET_PATH) if file.endswith(\".wav\")]\n",
        "\n",
        "SAMPLE_RATE = 16000\n",
        "FIXED_RAW_LENGTH = 64000  # 4 seconds of audio at 16kHz\n",
        "\n",
        "def preprocess_raw_audio(audio_signal):\n",
        "  \"\"\"\n",
        "  Function to preprocess raw audio waveform by:\n",
        "    - padding or truncating to fixed values\n",
        "    - normalizing the signal\n",
        "  \"\"\"\n",
        "  if len(audio_signal) < FIXED_RAW_LENGTH:\n",
        "      padding_amount = FIXED_RAW_LENGTH - len(audio_signal)\n",
        "      audio_signal = np.pad(audio_signal, (0, padding_amount))\n",
        "  else:\n",
        "      audio_signal = audio_signal[:FIXED_RAW_LENGTH]\n",
        "  normalized_signal = (audio_signal - np.mean(audio_signal)) / np.std(audio_signal)\n",
        "  return normalized_signal\n",
        "\n",
        "def convert_to_mel_spectrogram(audio_signal, sample_rate):\n",
        "  \"\"\"\n",
        "  Function to covert raw audio waveform to Mel Spectograms by:\n",
        "    - librosa Mel spectogram (64 Mel bins)\n",
        "    - converting to decibel scale for better range\n",
        "  \"\"\"\n",
        "  mel_spectrogram = librosa.feature.melspectrogram(\n",
        "      y=audio_signal,\n",
        "      sr=sample_rate,\n",
        "      n_fft=1024,\n",
        "      hop_length=512,\n",
        "      n_mels=64\n",
        "  )\n",
        "  mel_spectrogram_db = librosa.power_to_db(mel_spectrogram, ref=np.max)\n",
        "  return mel_spectrogram_db\n",
        "\n",
        "#Lists to hold preprocessed data\n",
        "raw_audio_dataset = []\n",
        "mel_spectrogram_dataset = []\n",
        "\n",
        "#Loading, preprocessing and storing of the preprocessed data in the lists\n",
        "for audio_filename in tqdm(audio_filenames):\n",
        "  full_file_path = os.path.join(DATASET_PATH, audio_filename)\n",
        "  audio_signal, sample_rate = librosa.load(full_file_path, sr=SAMPLE_RATE)\n",
        "\n",
        "  raw_audio = preprocess_raw_audio(audio_signal)\n",
        "  mel_spectrogram = convert_to_mel_spectrogram(audio_signal, sample_rate)\n",
        "\n",
        "  raw_audio_dataset.append(raw_audio)\n",
        "  mel_spectrogram_dataset.append(mel_spectrogram)"
      ],
      "metadata": {
        "colab": {
          "base_uri": "https://localhost:8080/"
        },
        "id": "-WRi88NYEbV-",
        "outputId": "60328f80-23fd-472d-e098-5e071622bf96"
      },
      "execution_count": 50,
      "outputs": [
        {
          "output_type": "stream",
          "name": "stderr",
          "text": [
            "100%|██████████| 3166/3166 [00:46<00:00, 67.90it/s] \n"
          ]
        }
      ]
    },
    {
      "cell_type": "code",
      "source": [
        "print (len(raw_audio_dataset))\n",
        "print( len(mel_spectrogram_dataset))\n",
        "\n",
        "print( raw_audio_dataset[0].shape)\n",
        "print(mel_spectrogram_dataset[0].shape)"
      ],
      "metadata": {
        "id": "34GUqDHSFKOp",
        "colab": {
          "base_uri": "https://localhost:8080/"
        },
        "outputId": "f11e5d8f-b7ec-407f-87b5-16da21f8ab70"
      },
      "execution_count": 51,
      "outputs": [
        {
          "output_type": "stream",
          "name": "stdout",
          "text": [
            "3166\n",
            "3166\n",
            "(64000,)\n",
            "(64, 283)\n"
          ]
        }
      ]
    },
    {
      "cell_type": "code",
      "source": [
        "import torch\n",
        "\n",
        "#Determining maximum length for the mel spectograms to be the same width\n",
        "maximum_spectrogram_length = max([spectrogram.shape[1] for spectrogram in mel_spectrogram_dataset])\n",
        "\n",
        "#Function to pad Mel spectogram to taget length along the time axis\n",
        "def pad_mel_spectrogram(spectrogram, target_length):\n",
        "    if spectrogram.shape[1] < target_length:\n",
        "        padding_amount = target_length - spectrogram.shape[1]\n",
        "        return np.pad(spectrogram, ((0, 0), (0, padding_amount))) #Padding only the time axis\n",
        "    return spectrogram\n",
        "\n",
        "#Pad all spectograms in the dataset to the same length\n",
        "padded_mel_spectrograms = [pad_mel_spectrogram(spectrogram, maximum_spectrogram_length) for spectrogram in mel_spectrogram_dataset]\n",
        "\n",
        "#Convert to torch tensor for training and add channel dimension to match the transformer imput shape\n",
        "X_mel_spectrogram = torch.tensor(np.array(padded_mel_spectrograms), dtype=torch.float32).unsqueeze(1)\n",
        "print(\"Vorm van X_mel_spectrogram:\", X_mel_spectrogram.shape)\n"
      ],
      "metadata": {
        "id": "IQOM19SnJJXp",
        "colab": {
          "base_uri": "https://localhost:8080/"
        },
        "outputId": "1619cbf8-cf0c-4ad5-d332-b40ffa3b9695"
      },
      "execution_count": 52,
      "outputs": [
        {
          "output_type": "stream",
          "name": "stdout",
          "text": [
            "Vorm van X_mel_spectrogram: torch.Size([3166, 1, 64, 406])\n"
          ]
        }
      ]
    },
    {
      "cell_type": "code",
      "source": [
        "#Determines the maximum length of raw audio signals in dataset\n",
        "maximum_raw_audio_length = max([len(audio_signal) for audio_signal in raw_audio_dataset])\n",
        "\n",
        "# Function to pad a raw audio signal to the target length by padding with zeros at the end if audio is too short\n",
        "def pad_raw_audio(audio_signal, target_length):\n",
        "    if len(audio_signal) < target_length:\n",
        "        return np.pad(audio_signal, (0, target_length - len(audio_signal)))\n",
        "    return audio_signal\n",
        "\n",
        "#Pad all raw audio to the maximum length\n",
        "padded_raw_audio = [pad_raw_audio(audio_signal, maximum_raw_audio_length) for audio_signal in raw_audio_dataset]\n",
        "\n",
        "# Convert to a PyTorch tensor for training and add channel dimension (unsqueeze at axis 1) to match input shape expected by models\n",
        "X_raw_audio = torch.tensor(np.array(padded_raw_audio), dtype=torch.float32).unsqueeze(1)\n",
        "print(\"Vorm van X_raw_audio:\", X_raw_audio.shape)"
      ],
      "metadata": {
        "id": "mh5SxWD5J6JF",
        "colab": {
          "base_uri": "https://localhost:8080/"
        },
        "outputId": "77559959-d606-490a-c6ed-b49cfd9a17cb"
      },
      "execution_count": 53,
      "outputs": [
        {
          "output_type": "stream",
          "name": "stdout",
          "text": [
            "Vorm van X_raw_audio: torch.Size([3166, 1, 64000])\n"
          ]
        }
      ]
    },
    {
      "cell_type": "code",
      "source": [
        "import matplotlib.pyplot as plt\n",
        "\n",
        "#Randomly choosing an index to visualise the raw audio waveform, extracting data and coverting tensor to numpy array\n",
        "index = 13\n",
        "raw_sample = X_raw_audio[index].squeeze().numpy()\n",
        "\n",
        "#Display visualisation\n",
        "plt.figure(figsize=(10, 3))\n",
        "plt.plot(raw_sample)\n",
        "plt.title(\"Raw Audio Waveform\")\n",
        "plt.xlabel(\"Samples\")\n",
        "plt.ylabel(\"Amplitude\")\n",
        "plt.grid(True)\n",
        "plt.show()"
      ],
      "metadata": {
        "id": "Zz_pjHP4NeBD",
        "colab": {
          "base_uri": "https://localhost:8080/",
          "height": 333
        },
        "outputId": "de6468e5-d8b8-447d-b536-52131ea12d6f"
      },
      "execution_count": 54,
      "outputs": [
        {
          "output_type": "display_data",
          "data": {
            "text/plain": [
              "<Figure size 1000x300 with 1 Axes>"
            ],
            "image/png": "[encoded data removed]"
          },
          "metadata": {}
        }
      ]
    },
    {
      "cell_type": "code",
      "source": [
        "import librosa.display\n",
        "\n",
        "#Randomly selecting an index to visualise the Mel spectogram\n",
        "mel_sample = X_mel_spectrogram[index].squeeze().numpy()  # shape: [64, 406]\n",
        "\n",
        "#Displaying visualisation\n",
        "plt.figure(figsize=(10, 4))\n",
        "librosa.display.specshow(mel_sample, sr=16000, hop_length=512, x_axis='time', y_axis='mel')\n",
        "plt.colorbar(format=\"%+2.0f dB\")\n",
        "plt.title(\"Mel Spectrogram (dB)\")\n",
        "plt.tight_layout()\n",
        "plt.show()"
      ],
      "metadata": {
        "id": "L0E6IxvRN_At",
        "colab": {
          "base_uri": "https://localhost:8080/",
          "height": 407
        },
        "outputId": "72bc3151-b143-4f5d-fe14-532f6e14da66"
      },
      "execution_count": 55,
      "outputs": [
        {
          "output_type": "display_data",
          "data": {
            "text/plain": [
              "<Figure size 1000x400 with 2 Axes>"
            ],
            "image/png": "[encoded data removed]"
          },
          "metadata": {}
        }
      ]
    },
    {
      "cell_type": "code",
      "source": [
        "import pandas as pd\n",
        "index = 14  #random again\n",
        "\n",
        "# Raw audio as table\n",
        "raw_sample_array = X_raw_audio[index].squeeze().numpy()\n",
        "raw_audio_table = pd.DataFrame(raw_sample_array, columns=[\"Amplitude\"])\n",
        "print(raw_audio_table.head(10))\n",
        "\n",
        "# Mel spectrogram as table\n",
        "mel_sample_array = X_mel_spectrogram[index].squeeze().numpy()\n",
        "mel_spectrogram_table = pd.DataFrame(mel_sample_array)\n",
        "print(mel_spectrogram_table.head(10))"
      ],
      "metadata": {
        "id": "T6XZcdHhOGPY",
        "colab": {
          "base_uri": "https://localhost:8080/"
        },
        "outputId": "b71d7c6f-79e6-4424-938b-f36418b156d4"
      },
      "execution_count": 56,
      "outputs": [
        {
          "output_type": "stream",
          "name": "stdout",
          "text": [
            "   Amplitude\n",
            "0   0.005070\n",
            "1   0.001996\n",
            "2   0.002764\n",
            "3   0.002380\n",
            "4   0.001996\n",
            "5   0.001611\n",
            "6   0.001611\n",
            "7   0.001996\n",
            "8   0.002764\n",
            "9   0.001227\n",
            "         0          1          2          3          4          5    \\\n",
            "0 -70.720108 -71.061462 -67.725388 -67.929062 -61.183098 -64.800629   \n",
            "1 -69.684937 -70.860901 -69.190468 -69.504013 -73.660606 -59.908615   \n",
            "2 -75.825882 -74.125259 -68.432167 -69.553436 -73.415710 -62.414917   \n",
            "3 -79.817627 -72.792305 -79.275192 -66.545738 -75.782532 -76.442093   \n",
            "4 -79.051254 -76.388245 -77.343979 -71.880157 -78.051384 -74.915916   \n",
            "5 -80.000000 -73.556351 -80.000000 -78.313530 -76.952072 -77.292114   \n",
            "6 -80.000000 -79.699814 -80.000000 -80.000000 -78.047852 -80.000000   \n",
            "7 -80.000000 -80.000000 -80.000000 -80.000000 -80.000000 -80.000000   \n",
            "8 -79.889008 -80.000000 -80.000000 -80.000000 -80.000000 -79.769913   \n",
            "9 -80.000000 -80.000000 -80.000000 -80.000000 -80.000000 -77.685059   \n",
            "\n",
            "         6          7          8          9    ...  396  397  398  399  400  \\\n",
            "0 -72.116165 -72.095490 -66.327789 -69.460281  ...  0.0  0.0  0.0  0.0  0.0   \n",
            "1 -68.090973 -62.483109 -67.893646 -63.760326  ...  0.0  0.0  0.0  0.0  0.0   \n",
            "2 -68.196747 -63.503452 -69.938309 -66.254417  ...  0.0  0.0  0.0  0.0  0.0   \n",
            "3 -76.766441 -75.220642 -73.804871 -73.795761  ...  0.0  0.0  0.0  0.0  0.0   \n",
            "4 -73.671906 -64.287186 -68.177185 -71.889267  ...  0.0  0.0  0.0  0.0  0.0   \n",
            "5 -71.902893 -69.135483 -71.472519 -69.421509  ...  0.0  0.0  0.0  0.0  0.0   \n",
            "6 -76.777069 -78.127914 -75.998901 -77.277359  ...  0.0  0.0  0.0  0.0  0.0   \n",
            "7 -73.246597 -76.013550 -70.752441 -71.261749  ...  0.0  0.0  0.0  0.0  0.0   \n",
            "8 -79.828560 -79.855141 -79.790833 -76.486328  ...  0.0  0.0  0.0  0.0  0.0   \n",
            "9 -80.000000 -80.000000 -80.000000 -80.000000  ...  0.0  0.0  0.0  0.0  0.0   \n",
            "\n",
            "   401  402  403  404  405  \n",
            "0  0.0  0.0  0.0  0.0  0.0  \n",
            "1  0.0  0.0  0.0  0.0  0.0  \n",
            "2  0.0  0.0  0.0  0.0  0.0  \n",
            "3  0.0  0.0  0.0  0.0  0.0  \n",
            "4  0.0  0.0  0.0  0.0  0.0  \n",
            "5  0.0  0.0  0.0  0.0  0.0  \n",
            "6  0.0  0.0  0.0  0.0  0.0  \n",
            "7  0.0  0.0  0.0  0.0  0.0  \n",
            "8  0.0  0.0  0.0  0.0  0.0  \n",
            "9  0.0  0.0  0.0  0.0  0.0  \n",
            "\n",
            "[10 rows x 406 columns]\n"
          ]
        }
      ]
    },
    {
      "cell_type": "markdown",
      "source": [
        "First model -> Transformer"
      ],
      "metadata": {
        "id": "x7T4ZhrrCBcd"
      }
    },
    {
      "cell_type": "code",
      "source": [
        "import torch\n",
        "import torch.nn as nn\n",
        "\n",
        "class SpectrogramTransformer(nn.Module):\n",
        "  \"\"\"\n",
        "  Transformer based model for the Mel spectograms.\n",
        "    - Takes Mel features,\n",
        "    - Applies linear projection, positional encoding and Transformer Encoder\n",
        "    - Outputs logits for each class\n",
        "  \"\"\"\n",
        "  def __init__(self, input_dim=64, model_dim=128, num_heads=4, num_layers=2, num_classes=5, max_seq_len=500, dropout=0.1):\n",
        "    super(SpectrogramTransformer, self).__init__()\n",
        "\n",
        "    self.input_proj = nn.Linear(input_dim, model_dim)\n",
        "    self.positional_encoding = nn.Parameter(torch.randn(1, max_seq_len, model_dim))\n",
        "\n",
        "    encoder_layer = nn.TransformerEncoderLayer(\n",
        "        d_model=model_dim,\n",
        "        nhead=num_heads,\n",
        "        dim_feedforward=256,\n",
        "        dropout=dropout,\n",
        "        batch_first=True\n",
        "    )\n",
        "    self.encoder = nn.TransformerEncoder(encoder_layer, num_layers=num_layers)\n",
        "\n",
        "    self.dropout = nn.Dropout(dropout)  # Dropout for regularisation\n",
        "    self.classifier = nn.Linear(model_dim, num_classes)\n",
        "\n",
        "  def forward(self, x):\n",
        "    \"\"\"\n",
        "    Forward passing function for the model, that takes input Mel spectogram and returns the class logits.\n",
        "      - Linear projects model dimension\n",
        "      - Adds positional encoding\n",
        "      - Passes through transformer encoder\n",
        "      - Applies global average pooling\n",
        "      - Applies dropout\n",
        "      - Outputs final classsification layer\n",
        "    \"\"\"\n",
        "    x = self.input_proj(x)\n",
        "    x = x + self.positional_encoding[:, :x.size(1), :]\n",
        "    x = self.encoder(x)\n",
        "    x = x.mean(dim=1)\n",
        "    x = self.dropout(x)\n",
        "    return self.classifier(x)"
      ],
      "metadata": {
        "id": "S4woZ72rDXUX"
      },
      "execution_count": 58,
      "outputs": []
    },
    {
      "cell_type": "code",
      "source": [
        "#Model initiation and parameter checking for troubleshooting\n",
        "device = torch.device(\"cuda\" if torch.cuda.is_available() else \"cpu\")\n",
        "model = SpectrogramTransformer(model_dim=256, num_heads=8, num_layers=4).to(device)\n",
        "\n",
        "params = list(model.parameters())\n",
        "print(f\"Total trainable parameters: {len(params)}\")\n",
        "for name, param in model.named_parameters():\n",
        "    print(name, param.shape)"
      ],
      "metadata": {
        "id": "Pjb_B1Y8DlnT",
        "colab": {
          "base_uri": "https://localhost:8080/"
        },
        "outputId": "8467ff92-21dc-4e18-cda4-d5531f2faf66"
      },
      "execution_count": 60,
      "outputs": [
        {
          "output_type": "stream",
          "name": "stdout",
          "text": [
            "Total trainable parameters: 53\n",
            "positional_encoding torch.Size([1, 500, 256])\n",
            "input_proj.weight torch.Size([256, 64])\n",
            "input_proj.bias torch.Size([256])\n",
            "encoder.layers.0.self_attn.in_proj_weight torch.Size([768, 256])\n",
            "encoder.layers.0.self_attn.in_proj_bias torch.Size([768])\n",
            "encoder.layers.0.self_attn.out_proj.weight torch.Size([256, 256])\n",
            "encoder.layers.0.self_attn.out_proj.bias torch.Size([256])\n",
            "encoder.layers.0.linear1.weight torch.Size([256, 256])\n",
            "encoder.layers.0.linear1.bias torch.Size([256])\n",
            "encoder.layers.0.linear2.weight torch.Size([256, 256])\n",
            "encoder.layers.0.linear2.bias torch.Size([256])\n",
            "encoder.layers.0.norm1.weight torch.Size([256])\n",
            "encoder.layers.0.norm1.bias torch.Size([256])\n",
            "encoder.layers.0.norm2.weight torch.Size([256])\n",
            "encoder.layers.0.norm2.bias torch.Size([256])\n",
            "encoder.layers.1.self_attn.in_proj_weight torch.Size([768, 256])\n",
            "encoder.layers.1.self_attn.in_proj_bias torch.Size([768])\n",
            "encoder.layers.1.self_attn.out_proj.weight torch.Size([256, 256])\n",
            "encoder.layers.1.self_attn.out_proj.bias torch.Size([256])\n",
            "encoder.layers.1.linear1.weight torch.Size([256, 256])\n",
            "encoder.layers.1.linear1.bias torch.Size([256])\n",
            "encoder.layers.1.linear2.weight torch.Size([256, 256])\n",
            "encoder.layers.1.linear2.bias torch.Size([256])\n",
            "encoder.layers.1.norm1.weight torch.Size([256])\n",
            "encoder.layers.1.norm1.bias torch.Size([256])\n",
            "encoder.layers.1.norm2.weight torch.Size([256])\n",
            "encoder.layers.1.norm2.bias torch.Size([256])\n",
            "encoder.layers.2.self_attn.in_proj_weight torch.Size([768, 256])\n",
            "encoder.layers.2.self_attn.in_proj_bias torch.Size([768])\n",
            "encoder.layers.2.self_attn.out_proj.weight torch.Size([256, 256])\n",
            "encoder.layers.2.self_attn.out_proj.bias torch.Size([256])\n",
            "encoder.layers.2.linear1.weight torch.Size([256, 256])\n",
            "encoder.layers.2.linear1.bias torch.Size([256])\n",
            "encoder.layers.2.linear2.weight torch.Size([256, 256])\n",
            "encoder.layers.2.linear2.bias torch.Size([256])\n",
            "encoder.layers.2.norm1.weight torch.Size([256])\n",
            "encoder.layers.2.norm1.bias torch.Size([256])\n",
            "encoder.layers.2.norm2.weight torch.Size([256])\n",
            "encoder.layers.2.norm2.bias torch.Size([256])\n",
            "encoder.layers.3.self_attn.in_proj_weight torch.Size([768, 256])\n",
            "encoder.layers.3.self_attn.in_proj_bias torch.Size([768])\n",
            "encoder.layers.3.self_attn.out_proj.weight torch.Size([256, 256])\n",
            "encoder.layers.3.self_attn.out_proj.bias torch.Size([256])\n",
            "encoder.layers.3.linear1.weight torch.Size([256, 256])\n",
            "encoder.layers.3.linear1.bias torch.Size([256])\n",
            "encoder.layers.3.linear2.weight torch.Size([256, 256])\n",
            "encoder.layers.3.linear2.bias torch.Size([256])\n",
            "encoder.layers.3.norm1.weight torch.Size([256])\n",
            "encoder.layers.3.norm1.bias torch.Size([256])\n",
            "encoder.layers.3.norm2.weight torch.Size([256])\n",
            "encoder.layers.3.norm2.bias torch.Size([256])\n",
            "classifier.weight torch.Size([5, 256])\n",
            "classifier.bias torch.Size([5])\n"
          ]
        }
      ]
    },
    {
      "cell_type": "code",
      "source": [
        "from torch.utils.data import TensorDataset, DataLoader\n",
        "\n",
        "X_mel = X_mel_spectrogram.squeeze(1).permute(0, 2, 1)\n",
        "y = torch.tensor([int(f[0]) - 1 for f in audio_filenames])\n",
        "\n",
        "# Dataset and loader\n",
        "dataset = TensorDataset(X_mel, y)\n",
        "train_loader = DataLoader(dataset, batch_size=32, shuffle=True)\n",
        "\n",
        "# Training setup\n",
        "model = SpectrogramTransformer().to(device)\n",
        "optimizer = torch.optim.Adam(model.parameters(), lr=1e-4, weight_decay=1e-6)\n",
        "criterion = nn.CrossEntropyLoss()\n",
        "\n",
        "# Training loop\n",
        "num_epochs = 100\n",
        "model.train()\n",
        "for epoch in range(num_epochs):\n",
        "    total_loss = 0\n",
        "    correct = 0\n",
        "    total = 0\n",
        "    for inputs, targets in train_loader:\n",
        "        inputs, targets = inputs.to(device), targets.to(device)\n",
        "\n",
        "        optimizer.zero_grad()\n",
        "        outputs = model(inputs)\n",
        "        loss = criterion(outputs, targets)\n",
        "        loss.backward()\n",
        "        optimizer.step()\n",
        "\n",
        "        total_loss += loss.item()\n",
        "        preds = outputs.argmax(dim=1)\n",
        "        correct += (preds == targets).sum().item()\n",
        "        total += targets.size(0)\n",
        "\n",
        "    acc = correct / total * 100\n",
        "    print(f\"Epoch {epoch+1}/{num_epochs} | Loss: {total_loss:.4f} | Accuracy: {acc:.2f}%\")"
      ],
      "metadata": {
        "id": "vjAN_e83BtOT",
        "colab": {
          "base_uri": "https://localhost:8080/"
        },
        "outputId": "ad4ed73a-bf1c-4175-d47c-887153658721"
      },
      "execution_count": 61,
      "outputs": [
        {
          "output_type": "stream",
          "name": "stdout",
          "text": [
            "Epoch 1/100 | Loss: 157.5964 | Accuracy: 26.60%\n",
            "Epoch 2/100 | Loss: 151.7903 | Accuracy: 32.28%\n",
            "Epoch 3/100 | Loss: 139.5926 | Accuracy: 39.01%\n",
            "Epoch 4/100 | Loss: 132.3320 | Accuracy: 41.00%\n",
            "Epoch 5/100 | Loss: 125.6825 | Accuracy: 45.36%\n",
            "Epoch 6/100 | Loss: 124.8744 | Accuracy: 45.61%\n",
            "Epoch 7/100 | Loss: 115.1365 | Accuracy: 50.41%\n",
            "Epoch 8/100 | Loss: 108.2225 | Accuracy: 54.11%\n",
            "Epoch 9/100 | Loss: 102.7418 | Accuracy: 55.94%\n",
            "Epoch 10/100 | Loss: 100.4375 | Accuracy: 57.49%\n",
            "Epoch 11/100 | Loss: 92.3629 | Accuracy: 61.59%\n",
            "Epoch 12/100 | Loss: 86.8635 | Accuracy: 64.31%\n",
            "Epoch 13/100 | Loss: 80.2658 | Accuracy: 68.89%\n",
            "Epoch 14/100 | Loss: 76.4719 | Accuracy: 68.70%\n",
            "Epoch 15/100 | Loss: 70.8995 | Accuracy: 71.95%\n",
            "Epoch 16/100 | Loss: 68.7804 | Accuracy: 71.86%\n",
            "Epoch 17/100 | Loss: 66.0192 | Accuracy: 74.19%\n",
            "Epoch 18/100 | Loss: 60.2723 | Accuracy: 76.31%\n",
            "Epoch 19/100 | Loss: 55.3051 | Accuracy: 78.46%\n",
            "Epoch 20/100 | Loss: 54.6195 | Accuracy: 78.27%\n",
            "Epoch 21/100 | Loss: 50.1886 | Accuracy: 80.67%\n",
            "Epoch 22/100 | Loss: 46.5401 | Accuracy: 81.11%\n",
            "Epoch 23/100 | Loss: 48.0692 | Accuracy: 81.33%\n",
            "Epoch 24/100 | Loss: 46.3335 | Accuracy: 81.55%\n",
            "Epoch 25/100 | Loss: 38.7865 | Accuracy: 84.87%\n",
            "Epoch 26/100 | Loss: 40.7797 | Accuracy: 83.54%\n",
            "Epoch 27/100 | Loss: 37.1636 | Accuracy: 85.50%\n",
            "Epoch 28/100 | Loss: 39.0019 | Accuracy: 84.05%\n",
            "Epoch 29/100 | Loss: 33.1642 | Accuracy: 86.58%\n",
            "Epoch 30/100 | Loss: 33.4227 | Accuracy: 86.36%\n",
            "Epoch 31/100 | Loss: 36.7944 | Accuracy: 86.07%\n",
            "Epoch 32/100 | Loss: 29.3462 | Accuracy: 88.69%\n",
            "Epoch 33/100 | Loss: 28.6072 | Accuracy: 89.29%\n",
            "Epoch 34/100 | Loss: 26.7736 | Accuracy: 89.13%\n",
            "Epoch 35/100 | Loss: 25.1563 | Accuracy: 90.43%\n",
            "Epoch 36/100 | Loss: 23.2947 | Accuracy: 90.93%\n",
            "Epoch 37/100 | Loss: 24.0831 | Accuracy: 90.87%\n",
            "Epoch 38/100 | Loss: 23.6700 | Accuracy: 90.81%\n",
            "Epoch 39/100 | Loss: 22.9264 | Accuracy: 91.31%\n",
            "Epoch 40/100 | Loss: 23.8664 | Accuracy: 90.08%\n",
            "Epoch 41/100 | Loss: 20.6506 | Accuracy: 92.04%\n",
            "Epoch 42/100 | Loss: 18.4961 | Accuracy: 93.02%\n",
            "Epoch 43/100 | Loss: 18.3127 | Accuracy: 93.05%\n",
            "Epoch 44/100 | Loss: 21.6525 | Accuracy: 91.54%\n",
            "Epoch 45/100 | Loss: 19.8188 | Accuracy: 92.70%\n",
            "Epoch 46/100 | Loss: 18.7457 | Accuracy: 92.51%\n",
            "Epoch 47/100 | Loss: 18.3647 | Accuracy: 93.37%\n",
            "Epoch 48/100 | Loss: 17.8391 | Accuracy: 93.05%\n",
            "Epoch 49/100 | Loss: 25.5690 | Accuracy: 90.02%\n",
            "Epoch 50/100 | Loss: 21.4036 | Accuracy: 91.76%\n",
            "Epoch 51/100 | Loss: 13.5148 | Accuracy: 95.14%\n",
            "Epoch 52/100 | Loss: 11.7909 | Accuracy: 95.77%\n",
            "Epoch 53/100 | Loss: 14.6132 | Accuracy: 94.31%\n",
            "Epoch 54/100 | Loss: 20.3547 | Accuracy: 91.98%\n",
            "Epoch 55/100 | Loss: 13.8411 | Accuracy: 94.98%\n",
            "Epoch 56/100 | Loss: 10.9470 | Accuracy: 95.77%\n",
            "Epoch 57/100 | Loss: 9.5269 | Accuracy: 96.81%\n",
            "Epoch 58/100 | Loss: 10.5122 | Accuracy: 95.89%\n",
            "Epoch 59/100 | Loss: 12.2017 | Accuracy: 95.74%\n",
            "Epoch 60/100 | Loss: 13.1116 | Accuracy: 94.79%\n",
            "Epoch 61/100 | Loss: 12.9085 | Accuracy: 95.04%\n",
            "Epoch 62/100 | Loss: 13.2976 | Accuracy: 95.29%\n",
            "Epoch 63/100 | Loss: 12.0162 | Accuracy: 95.26%\n",
            "Epoch 64/100 | Loss: 10.8775 | Accuracy: 95.70%\n",
            "Epoch 65/100 | Loss: 10.8440 | Accuracy: 96.18%\n",
            "Epoch 66/100 | Loss: 7.9286 | Accuracy: 97.44%\n",
            "Epoch 67/100 | Loss: 10.4775 | Accuracy: 96.27%\n",
            "Epoch 68/100 | Loss: 9.6416 | Accuracy: 95.93%\n",
            "Epoch 69/100 | Loss: 9.4549 | Accuracy: 96.62%\n",
            "Epoch 70/100 | Loss: 9.4650 | Accuracy: 96.46%\n",
            "Epoch 71/100 | Loss: 9.8609 | Accuracy: 96.27%\n",
            "Epoch 72/100 | Loss: 9.2245 | Accuracy: 96.56%\n",
            "Epoch 73/100 | Loss: 9.1810 | Accuracy: 96.68%\n",
            "Epoch 74/100 | Loss: 19.5449 | Accuracy: 92.67%\n",
            "Epoch 75/100 | Loss: 9.0707 | Accuracy: 96.65%\n",
            "Epoch 76/100 | Loss: 4.4646 | Accuracy: 98.83%\n",
            "Epoch 77/100 | Loss: 4.5585 | Accuracy: 98.74%\n",
            "Epoch 78/100 | Loss: 8.9666 | Accuracy: 96.68%\n",
            "Epoch 79/100 | Loss: 6.7985 | Accuracy: 97.63%\n",
            "Epoch 80/100 | Loss: 4.9470 | Accuracy: 98.45%\n",
            "Epoch 81/100 | Loss: 9.2844 | Accuracy: 96.59%\n",
            "Epoch 82/100 | Loss: 9.3146 | Accuracy: 96.49%\n",
            "Epoch 83/100 | Loss: 8.7338 | Accuracy: 96.78%\n",
            "Epoch 84/100 | Loss: 5.8306 | Accuracy: 97.60%\n",
            "Epoch 85/100 | Loss: 3.9571 | Accuracy: 98.77%\n",
            "Epoch 86/100 | Loss: 5.5959 | Accuracy: 98.33%\n",
            "Epoch 87/100 | Loss: 9.3434 | Accuracy: 96.53%\n",
            "Epoch 88/100 | Loss: 6.6554 | Accuracy: 97.54%\n",
            "Epoch 89/100 | Loss: 11.5836 | Accuracy: 95.67%\n",
            "Epoch 90/100 | Loss: 6.2462 | Accuracy: 97.76%\n",
            "Epoch 91/100 | Loss: 3.5547 | Accuracy: 99.02%\n",
            "Epoch 92/100 | Loss: 3.9259 | Accuracy: 98.74%\n",
            "Epoch 93/100 | Loss: 9.9451 | Accuracy: 96.43%\n",
            "Epoch 94/100 | Loss: 7.3796 | Accuracy: 97.41%\n",
            "Epoch 95/100 | Loss: 8.7736 | Accuracy: 96.75%\n",
            "Epoch 96/100 | Loss: 3.8884 | Accuracy: 98.67%\n",
            "Epoch 97/100 | Loss: 3.6229 | Accuracy: 98.80%\n",
            "Epoch 98/100 | Loss: 3.4695 | Accuracy: 98.99%\n",
            "Epoch 99/100 | Loss: 1.7818 | Accuracy: 99.62%\n",
            "Epoch 100/100 | Loss: 3.0220 | Accuracy: 99.21%\n"
          ]
        }
      ]
    },
    {
      "cell_type": "code",
      "source": [
        "from sklearn.model_selection import train_test_split\n",
        "from torch.utils.data import TensorDataset, DataLoader\n",
        "\n",
        "#Splitting train (80%) and validation (20%) sets\n",
        "X_train, X_val, y_train, y_val = train_test_split(X_mel, y, test_size=0.2, random_state=42, stratify=y)\n",
        "\n",
        "#Creating dataloaders for model training with shuffling for the training loader for randomisation\n",
        "train_loader = DataLoader(TensorDataset(X_train, y_train), batch_size=32, shuffle=True)\n",
        "val_loader = DataLoader(TensorDataset(X_val, y_val), batch_size=32, shuffle=False)"
      ],
      "metadata": {
        "id": "yhdXE5fnXXDh"
      },
      "execution_count": 62,
      "outputs": []
    },
    {
      "cell_type": "code",
      "source": [
        "#Creating the tensors, training and validation sets for gender and accent statistical analysis\n",
        "accent_labels = [int(f[0]) - 1 for f in audio_filenames]\n",
        "gender_labels = [0 if f[1] == 'm' else 1 for f in audio_filenames]  # 0 = male, 1 = female\n",
        "\n",
        "accent_labels = torch.tensor(accent_labels)\n",
        "gender_labels = torch.tensor(gender_labels)\n",
        "\n",
        "_, accent_val = train_test_split(accent_labels, test_size=0.2, random_state=42, stratify=accent_labels)\n",
        "_, gender_val = train_test_split(gender_labels, test_size=0.2, random_state=42, stratify=gender_labels)"
      ],
      "metadata": {
        "id": "Qsh43YuNXc5h"
      },
      "execution_count": 63,
      "outputs": []
    },
    {
      "cell_type": "code",
      "source": [
        "from sklearn.metrics import accuracy_score\n",
        "import numpy as np\n",
        "\n",
        "def evaluate(model, val_loader, accent_val, gender_val):\n",
        "  \"\"\"\n",
        "  Evaluates the trained model on the validation set through overall accuracy,\n",
        "  accuracy for accent and, for troubleshooting, gender.\n",
        "  \"\"\"\n",
        "  model.eval()\n",
        "  all_preds = []\n",
        "  all_targets = []\n",
        "\n",
        "  with torch.no_grad():\n",
        "    for inputs, targets in val_loader:\n",
        "      inputs, targets = inputs.to(device), targets.to(device)\n",
        "      outputs = model(inputs)\n",
        "      preds = outputs.argmax(dim=1)\n",
        "      all_preds.extend(preds.cpu().numpy())\n",
        "      all_targets.extend(targets.cpu().numpy())\n",
        "\n",
        "  all_preds = np.array(all_preds)\n",
        "  all_targets = np.array(all_targets)\n",
        "  accent_val = accent_val.numpy()\n",
        "  gender_val = gender_val.numpy()\n",
        "\n",
        "  overall_acc = accuracy_score(all_targets, all_preds)\n",
        "\n",
        "  print(\"\\n Accuracy per Accent:\")\n",
        "  for accent in np.unique(accent_val):\n",
        "    indices = np.where(accent_val == accent)[0]\n",
        "    acc = accuracy_score(all_targets[indices], all_preds[indices])\n",
        "    print(f\"Accent {accent + 1}: {acc * 100:.2f}%\")\n",
        "\n",
        "  print(\"\\n Accuracy per Gender:\")\n",
        "  for g in [0, 1]:\n",
        "    label = \"Male\" if g == 0 else \"Female\"\n",
        "    indices = np.where(gender_val == g)[0]\n",
        "    acc = accuracy_score(all_targets[indices], all_preds[indices])\n",
        "    print(f\"{label}: {acc * 100:.2f}%\")\n",
        "\n",
        "  print(f\"\\n Overall Accuracy: {overall_acc * 100:.2f}%\")\n",
        "  model.train()"
      ],
      "metadata": {
        "id": "YfIhGnBlXicR"
      },
      "execution_count": 64,
      "outputs": []
    },
    {
      "cell_type": "code",
      "source": [
        "evaluate(model, val_loader, accent_val, gender_val)"
      ],
      "metadata": {
        "id": "1ApVQoZiXvp7",
        "colab": {
          "base_uri": "https://localhost:8080/"
        },
        "outputId": "34f1cb98-db41-4dc3-e4bc-8b547fc45594"
      },
      "execution_count": 65,
      "outputs": [
        {
          "output_type": "stream",
          "name": "stdout",
          "text": [
            "\n",
            " Accuracy per Accent:\n",
            "Accent 1: 100.00%\n",
            "Accent 2: 100.00%\n",
            "Accent 3: 98.23%\n",
            "Accent 4: 99.34%\n",
            "Accent 5: 98.97%\n",
            "\n",
            " Accuracy per Gender:\n",
            "Male: 99.67%\n",
            "Female: 99.09%\n",
            "\n",
            " Overall Accuracy: 99.37%\n"
          ]
        }
      ]
    },
    {
      "cell_type": "code",
      "source": [
        "import random\n",
        "import torchaudio.transforms as T\n",
        "from torch.utils.data import Dataset, DataLoader\n",
        "from sklearn.metrics import accuracy_score\n",
        "\n",
        "#Audio data augmentation transforms\n",
        "time_mask = T.TimeMasking(time_mask_param=15)  #masks out random temporal segments\n",
        "freq_mask = T.FrequencyMasking(freq_mask_param=5)  # masks out random frequency bands\n",
        "\n",
        "#Adds noise to tensor\n",
        "def add_noise(mel_spec, noise_level=0.003):\n",
        "    noise = torch.randn_like(mel_spec) * noise_level\n",
        "    return mel_spec + noise\n",
        "\n",
        "#Applies the augmentations and noise\n",
        "def apply_augmentations(mel_spec_tensor):\n",
        "    if random.random() < 0.7:\n",
        "        mel_spec_tensor = time_mask(mel_spec_tensor)\n",
        "    if random.random() < 0.7:\n",
        "        mel_spec_tensor = freq_mask(mel_spec_tensor)\n",
        "    if random.random() < 0.5:\n",
        "        mel_spec_tensor = add_noise(mel_spec_tensor)\n",
        "    return mel_spec_tensor\n",
        "\n",
        "#Custom dataset class for applying the augmentation during training and delaying augmentation for later epochs for stability\n",
        "class AudioDataset(torch.utils.data.Dataset):\n",
        "    def __init__(self, X, y, augment=False, delay_aug_epochs=0, mix_prob=0.5):\n",
        "        self.X = X\n",
        "        self.y = y\n",
        "        self.augment = augment\n",
        "        self.delay_aug_epochs = delay_aug_epochs\n",
        "        self.mix_prob = mix_prob\n",
        "        self.current_epoch = 0\n",
        "\n",
        "    def __getitem__(self, idx):\n",
        "        x = self.X[idx]\n",
        "        y = self.y[idx]\n",
        "\n",
        "        #Applying aug. conditionally\n",
        "        if self.augment and self.current_epoch >= self.delay_aug_epochs:\n",
        "            if random.random() < self.mix_prob:\n",
        "                x = apply_augmentations(x.unsqueeze(0)).squeeze(0)\n",
        "\n",
        "        return x, y\n",
        "\n",
        "    def __len__(self):\n",
        "        return len(self.y)\n",
        "\n",
        "#Updating the current epoch\n",
        "    def set_epoch(self, epoch):\n",
        "        self.current_epoch = epoch\n",
        "#Creating the training for aug. after delay, no augmentation and validation sets\n",
        "train_dataset_aug = AudioDataset(\n",
        "    X_train,\n",
        "    y_train,\n",
        "    augment=True,\n",
        "    delay_aug_epochs=5,\n",
        "    mix_prob=0.5\n",
        ")\n",
        "train_dataset_no_aug = AudioDataset(X_train, y_train, augment=False)\n",
        "val_dataset = AudioDataset(X_val, y_val, augment=False)\n",
        "\n",
        "#Dataloaders for the above sets\n",
        "train_loader_aug = DataLoader(train_dataset_aug, batch_size=32, shuffle=True)\n",
        "train_loader_no_aug = DataLoader(train_dataset_no_aug, batch_size=32, shuffle=True)\n",
        "val_loader = DataLoader(val_dataset, batch_size=32, shuffle=False)"
      ],
      "metadata": {
        "id": "SvphJmjAX_8x"
      },
      "execution_count": 66,
      "outputs": []
    },
    {
      "cell_type": "code",
      "source": [
        "from sklearn.metrics import accuracy_score\n",
        "\n",
        "def train_model(model, train_dataset, val_loader, accent_val, gender_val, label=\"\"):\n",
        "  \"\"\"\n",
        "  Training function for the current version of the model\n",
        "  using with 100 epochs\n",
        "  \"\"\"\n",
        "  train_loss_log, val_acc_log = [], []\n",
        "\n",
        "  train_loader = DataLoader(train_dataset, batch_size=32, shuffle=True)\n",
        "  criterion = torch.nn.CrossEntropyLoss()  # for classification\n",
        "  optimizer = torch.optim.Adam(model.parameters(), lr=1e-4, weight_decay=1e-5)  # Adam optimiser for mininmising loss\n",
        "\n",
        "  for epoch in range(100):\n",
        "    model.train()\n",
        "    train_dataset.set_epoch(epoch)\n",
        "\n",
        "    total_loss = 0\n",
        "    correct = 0\n",
        "    total = 0\n",
        "\n",
        "    # Training loop\n",
        "    for inputs, targets in train_loader:\n",
        "      inputs, targets = inputs.to(device), targets.to(device)\n",
        "      optimizer.zero_grad()\n",
        "      outputs = model(inputs)  # forward pass\n",
        "      loss = criterion(outputs, targets)\n",
        "      loss.backward()  # backpropagation and optimisation\n",
        "      optimizer.step()\n",
        "\n",
        "      # Updating metrics\n",
        "      total_loss += loss.item()\n",
        "      preds = outputs.argmax(dim=1)\n",
        "      correct += (preds == targets).sum().item()\n",
        "      total += targets.size(0)\n",
        "\n",
        "    train_acc = correct / total * 100\n",
        "    train_loss_log.append(total_loss)\n",
        "\n",
        "    # Evaluation on validation\n",
        "    model.eval()\n",
        "    all_preds, all_targets = [], []\n",
        "    with torch.no_grad():\n",
        "      for inputs, targets in val_loader:\n",
        "        inputs, targets = inputs.to(device), targets.to(device)\n",
        "        outputs = model(inputs)\n",
        "        preds = outputs.argmax(dim=1)\n",
        "        all_preds.extend(preds.cpu().numpy())\n",
        "        all_targets.extend(targets.cpu().numpy())\n",
        "\n",
        "    val_acc = accuracy_score(all_targets, all_preds) * 100\n",
        "    val_acc_log.append(val_acc)\n",
        "\n",
        "    # Printing validation metrics\n",
        "    print(f\"{label} | Epoch {epoch+1}: Train Loss={total_loss:.4f}, \"\n",
        "          f\"Train Acc={train_acc:.2f}%, Val Acc={val_acc:.2f}%\")\n",
        "\n",
        "  return train_loss_log, val_acc_log\n",
        "\n",
        "# Training without augmentation\n",
        "model_no_aug = SpectrogramTransformer().to(device)\n",
        "loss_no_aug, acc_no_aug = train_model(model_no_aug, train_dataset_no_aug, val_loader, accent_val, gender_val, label=\"No Aug\")\n",
        "\n",
        "# Training with augmentation\n",
        "model_aug = SpectrogramTransformer().to(device)\n",
        "loss_aug, acc_aug = train_model(model_aug, train_dataset_aug, val_loader, accent_val, gender_val, label=\"With Aug\")"
      ],
      "metadata": {
        "id": "ML8qIBOgekwo",
        "colab": {
          "base_uri": "https://localhost:8080/"
        },
        "outputId": "ea9236d3-a94b-4417-b234-3c582f03b22f"
      },
      "execution_count": 67,
      "outputs": [
        {
          "output_type": "stream",
          "name": "stdout",
          "text": [
            "No Aug | Epoch 1: Train Loss=127.7541, Train Acc=25.00%, Val Acc=29.02%\n",
            "No Aug | Epoch 2: Train Loss=126.5954, Train Acc=26.97%, Val Acc=29.18%\n",
            "No Aug | Epoch 3: Train Loss=125.4646, Train Acc=30.41%, Val Acc=30.28%\n",
            "No Aug | Epoch 4: Train Loss=123.7631, Train Acc=31.36%, Val Acc=31.86%\n",
            "No Aug | Epoch 5: Train Loss=121.8088, Train Acc=33.85%, Val Acc=38.33%\n",
            "No Aug | Epoch 6: Train Loss=116.8409, Train Acc=37.80%, Val Acc=31.86%\n",
            "No Aug | Epoch 7: Train Loss=109.3334, Train Acc=40.60%, Val Acc=43.85%\n",
            "No Aug | Epoch 8: Train Loss=104.0783, Train Acc=43.05%, Val Acc=41.96%\n",
            "No Aug | Epoch 9: Train Loss=100.0715, Train Acc=46.01%, Val Acc=45.43%\n",
            "No Aug | Epoch 10: Train Loss=94.3500, Train Acc=47.95%, Val Acc=48.58%\n",
            "No Aug | Epoch 11: Train Loss=93.0709, Train Acc=49.76%, Val Acc=53.31%\n",
            "No Aug | Epoch 12: Train Loss=88.0780, Train Acc=52.29%, Val Acc=54.26%\n",
            "No Aug | Epoch 13: Train Loss=85.2117, Train Acc=55.73%, Val Acc=38.80%\n",
            "No Aug | Epoch 14: Train Loss=86.5250, Train Acc=53.20%, Val Acc=49.37%\n",
            "No Aug | Epoch 15: Train Loss=79.1165, Train Acc=58.53%, Val Acc=58.36%\n",
            "No Aug | Epoch 16: Train Loss=77.5729, Train Acc=60.11%, Val Acc=58.99%\n",
            "No Aug | Epoch 17: Train Loss=71.7586, Train Acc=64.49%, Val Acc=66.25%\n",
            "No Aug | Epoch 18: Train Loss=70.3435, Train Acc=64.53%, Val Acc=60.25%\n",
            "No Aug | Epoch 19: Train Loss=62.3842, Train Acc=68.29%, Val Acc=68.30%\n",
            "No Aug | Epoch 20: Train Loss=59.8579, Train Acc=69.27%, Val Acc=67.51%\n",
            "No Aug | Epoch 21: Train Loss=55.0931, Train Acc=73.10%, Val Acc=65.62%\n",
            "No Aug | Epoch 22: Train Loss=53.7110, Train Acc=73.30%, Val Acc=72.40%\n",
            "No Aug | Epoch 23: Train Loss=46.9012, Train Acc=77.33%, Val Acc=69.09%\n",
            "No Aug | Epoch 24: Train Loss=51.6009, Train Acc=74.17%, Val Acc=77.44%\n",
            "No Aug | Epoch 25: Train Loss=44.3153, Train Acc=78.36%, Val Acc=73.03%\n",
            "No Aug | Epoch 26: Train Loss=42.9520, Train Acc=78.24%, Val Acc=76.50%\n",
            "No Aug | Epoch 27: Train Loss=39.8965, Train Acc=80.96%, Val Acc=71.92%\n",
            "No Aug | Epoch 28: Train Loss=43.3698, Train Acc=79.03%, Val Acc=78.08%\n",
            "No Aug | Epoch 29: Train Loss=33.8074, Train Acc=83.97%, Val Acc=73.50%\n",
            "No Aug | Epoch 30: Train Loss=34.3862, Train Acc=83.37%, Val Acc=77.76%\n",
            "No Aug | Epoch 31: Train Loss=30.4819, Train Acc=85.39%, Val Acc=82.97%\n",
            "No Aug | Epoch 32: Train Loss=28.7637, Train Acc=86.93%, Val Acc=82.02%\n",
            "No Aug | Epoch 33: Train Loss=26.7888, Train Acc=87.12%, Val Acc=81.55%\n",
            "No Aug | Epoch 34: Train Loss=26.4712, Train Acc=87.52%, Val Acc=77.76%\n",
            "No Aug | Epoch 35: Train Loss=29.2295, Train Acc=85.82%, Val Acc=71.92%\n",
            "No Aug | Epoch 36: Train Loss=28.8218, Train Acc=86.37%, Val Acc=73.34%\n",
            "No Aug | Epoch 37: Train Loss=21.9805, Train Acc=90.21%, Val Acc=83.75%\n",
            "No Aug | Epoch 38: Train Loss=23.6492, Train Acc=88.59%, Val Acc=80.60%\n",
            "No Aug | Epoch 39: Train Loss=22.2621, Train Acc=89.45%, Val Acc=79.50%\n",
            "No Aug | Epoch 40: Train Loss=19.0169, Train Acc=91.71%, Val Acc=81.70%\n",
            "No Aug | Epoch 41: Train Loss=15.9110, Train Acc=92.50%, Val Acc=84.54%\n",
            "No Aug | Epoch 42: Train Loss=17.6954, Train Acc=92.54%, Val Acc=81.23%\n",
            "No Aug | Epoch 43: Train Loss=18.4124, Train Acc=91.67%, Val Acc=86.28%\n",
            "No Aug | Epoch 44: Train Loss=17.7260, Train Acc=91.82%, Val Acc=83.28%\n",
            "No Aug | Epoch 45: Train Loss=17.1427, Train Acc=91.47%, Val Acc=83.28%\n",
            "No Aug | Epoch 46: Train Loss=14.2457, Train Acc=93.84%, Val Acc=83.28%\n",
            "No Aug | Epoch 47: Train Loss=16.2464, Train Acc=92.42%, Val Acc=77.76%\n",
            "No Aug | Epoch 48: Train Loss=18.9515, Train Acc=91.43%, Val Acc=83.91%\n",
            "No Aug | Epoch 49: Train Loss=9.8800, Train Acc=95.93%, Val Acc=85.65%\n",
            "No Aug | Epoch 50: Train Loss=11.5147, Train Acc=94.94%, Val Acc=85.65%\n",
            "No Aug | Epoch 51: Train Loss=9.2137, Train Acc=96.13%, Val Acc=85.33%\n",
            "No Aug | Epoch 52: Train Loss=8.8639, Train Acc=96.64%, Val Acc=84.23%\n",
            "No Aug | Epoch 53: Train Loss=11.8370, Train Acc=94.87%, Val Acc=84.70%\n",
            "No Aug | Epoch 54: Train Loss=12.6972, Train Acc=94.12%, Val Acc=84.70%\n",
            "No Aug | Epoch 55: Train Loss=12.7071, Train Acc=95.02%, Val Acc=83.60%\n",
            "No Aug | Epoch 56: Train Loss=11.3574, Train Acc=94.75%, Val Acc=85.65%\n",
            "No Aug | Epoch 57: Train Loss=9.8144, Train Acc=96.09%, Val Acc=81.70%\n",
            "No Aug | Epoch 58: Train Loss=12.0064, Train Acc=94.59%, Val Acc=85.02%\n",
            "No Aug | Epoch 59: Train Loss=10.2647, Train Acc=95.77%, Val Acc=82.02%\n",
            "No Aug | Epoch 60: Train Loss=22.9297, Train Acc=90.32%, Val Acc=78.86%\n",
            "No Aug | Epoch 61: Train Loss=12.5133, Train Acc=94.43%, Val Acc=82.81%\n",
            "No Aug | Epoch 62: Train Loss=7.2111, Train Acc=97.08%, Val Acc=87.07%\n",
            "No Aug | Epoch 63: Train Loss=5.9688, Train Acc=98.18%, Val Acc=84.54%\n",
            "No Aug | Epoch 64: Train Loss=8.9344, Train Acc=96.33%, Val Acc=85.65%\n",
            "No Aug | Epoch 65: Train Loss=5.8307, Train Acc=97.63%, Val Acc=86.44%\n",
            "No Aug | Epoch 66: Train Loss=4.9295, Train Acc=98.30%, Val Acc=85.65%\n",
            "No Aug | Epoch 67: Train Loss=5.8353, Train Acc=97.63%, Val Acc=86.75%\n",
            "No Aug | Epoch 68: Train Loss=4.4183, Train Acc=98.54%, Val Acc=87.22%\n",
            "No Aug | Epoch 69: Train Loss=4.6309, Train Acc=98.14%, Val Acc=85.80%\n",
            "No Aug | Epoch 70: Train Loss=3.8015, Train Acc=98.30%, Val Acc=81.55%\n",
            "No Aug | Epoch 71: Train Loss=5.7681, Train Acc=97.67%, Val Acc=85.17%\n",
            "No Aug | Epoch 72: Train Loss=5.6947, Train Acc=97.43%, Val Acc=87.22%\n",
            "No Aug | Epoch 73: Train Loss=4.9635, Train Acc=98.22%, Val Acc=87.54%\n",
            "No Aug | Epoch 74: Train Loss=5.6403, Train Acc=97.47%, Val Acc=85.80%\n",
            "No Aug | Epoch 75: Train Loss=7.3557, Train Acc=96.68%, Val Acc=85.96%\n",
            "No Aug | Epoch 76: Train Loss=8.3368, Train Acc=96.48%, Val Acc=79.97%\n",
            "No Aug | Epoch 77: Train Loss=18.8743, Train Acc=92.06%, Val Acc=87.38%\n",
            "No Aug | Epoch 78: Train Loss=5.7806, Train Acc=97.55%, Val Acc=86.28%\n",
            "No Aug | Epoch 79: Train Loss=6.0625, Train Acc=97.24%, Val Acc=87.38%\n",
            "No Aug | Epoch 80: Train Loss=4.2685, Train Acc=98.18%, Val Acc=87.85%\n",
            "No Aug | Epoch 81: Train Loss=3.0246, Train Acc=98.70%, Val Acc=88.33%\n",
            "No Aug | Epoch 82: Train Loss=6.3641, Train Acc=97.12%, Val Acc=84.86%\n",
            "No Aug | Epoch 83: Train Loss=6.3392, Train Acc=97.63%, Val Acc=87.70%\n",
            "No Aug | Epoch 84: Train Loss=10.1736, Train Acc=95.26%, Val Acc=82.97%\n",
            "No Aug | Epoch 85: Train Loss=3.6537, Train Acc=98.70%, Val Acc=87.07%\n",
            "No Aug | Epoch 86: Train Loss=3.0739, Train Acc=98.89%, Val Acc=85.96%\n",
            "No Aug | Epoch 87: Train Loss=2.9237, Train Acc=98.89%, Val Acc=88.17%\n",
            "No Aug | Epoch 88: Train Loss=4.9079, Train Acc=98.14%, Val Acc=86.59%\n",
            "No Aug | Epoch 89: Train Loss=2.4572, Train Acc=99.17%, Val Acc=88.17%\n",
            "No Aug | Epoch 90: Train Loss=3.0433, Train Acc=98.78%, Val Acc=87.22%\n",
            "No Aug | Epoch 91: Train Loss=2.0284, Train Acc=99.37%, Val Acc=86.75%\n",
            "No Aug | Epoch 92: Train Loss=4.5414, Train Acc=98.06%, Val Acc=85.65%\n",
            "No Aug | Epoch 93: Train Loss=6.4399, Train Acc=97.20%, Val Acc=84.07%\n",
            "No Aug | Epoch 94: Train Loss=5.1255, Train Acc=97.87%, Val Acc=83.60%\n",
            "No Aug | Epoch 95: Train Loss=11.1720, Train Acc=95.50%, Val Acc=84.54%\n",
            "No Aug | Epoch 96: Train Loss=4.4351, Train Acc=98.14%, Val Acc=85.33%\n",
            "No Aug | Epoch 97: Train Loss=3.3003, Train Acc=98.58%, Val Acc=88.01%\n",
            "No Aug | Epoch 98: Train Loss=3.5927, Train Acc=98.58%, Val Acc=88.17%\n",
            "No Aug | Epoch 99: Train Loss=2.9893, Train Acc=99.01%, Val Acc=84.86%\n",
            "No Aug | Epoch 100: Train Loss=2.5104, Train Acc=98.93%, Val Acc=88.49%\n",
            "With Aug | Epoch 1: Train Loss=127.7753, Train Acc=26.70%, Val Acc=30.13%\n",
            "With Aug | Epoch 2: Train Loss=125.5412, Train Acc=29.34%, Val Acc=34.70%\n",
            "With Aug | Epoch 3: Train Loss=122.0727, Train Acc=33.21%, Val Acc=32.65%\n",
            "With Aug | Epoch 4: Train Loss=116.0234, Train Acc=37.52%, Val Acc=38.33%\n",
            "With Aug | Epoch 5: Train Loss=110.3913, Train Acc=40.40%, Val Acc=44.48%\n",
            "With Aug | Epoch 6: Train Loss=112.6333, Train Acc=40.24%, Val Acc=41.96%\n",
            "With Aug | Epoch 7: Train Loss=111.7009, Train Acc=41.75%, Val Acc=44.01%\n",
            "With Aug | Epoch 8: Train Loss=109.1666, Train Acc=41.86%, Val Acc=41.80%\n",
            "With Aug | Epoch 9: Train Loss=106.6796, Train Acc=43.36%, Val Acc=48.11%\n",
            "With Aug | Epoch 10: Train Loss=105.9140, Train Acc=43.76%, Val Acc=46.53%\n",
            "With Aug | Epoch 11: Train Loss=102.0959, Train Acc=46.52%, Val Acc=49.05%\n",
            "With Aug | Epoch 12: Train Loss=101.3927, Train Acc=46.45%, Val Acc=50.79%\n",
            "With Aug | Epoch 13: Train Loss=98.4907, Train Acc=49.09%, Val Acc=51.10%\n",
            "With Aug | Epoch 14: Train Loss=98.3105, Train Acc=48.58%, Val Acc=53.63%\n",
            "With Aug | Epoch 15: Train Loss=94.5372, Train Acc=50.39%, Val Acc=56.62%\n",
            "With Aug | Epoch 16: Train Loss=93.8973, Train Acc=51.07%, Val Acc=55.05%\n",
            "With Aug | Epoch 17: Train Loss=92.0035, Train Acc=52.21%, Val Acc=53.79%\n",
            "With Aug | Epoch 18: Train Loss=87.9230, Train Acc=54.62%, Val Acc=46.69%\n",
            "With Aug | Epoch 19: Train Loss=88.9363, Train Acc=53.91%, Val Acc=54.57%\n",
            "With Aug | Epoch 20: Train Loss=84.7142, Train Acc=56.60%, Val Acc=56.31%\n",
            "With Aug | Epoch 21: Train Loss=83.4617, Train Acc=56.75%, Val Acc=58.99%\n",
            "With Aug | Epoch 22: Train Loss=82.2139, Train Acc=58.61%, Val Acc=61.20%\n",
            "With Aug | Epoch 23: Train Loss=79.2996, Train Acc=58.61%, Val Acc=58.20%\n",
            "With Aug | Epoch 24: Train Loss=79.1510, Train Acc=59.87%, Val Acc=64.67%\n",
            "With Aug | Epoch 25: Train Loss=76.7261, Train Acc=61.69%, Val Acc=63.72%\n",
            "With Aug | Epoch 26: Train Loss=75.8351, Train Acc=64.22%, Val Acc=69.56%\n",
            "With Aug | Epoch 27: Train Loss=71.4117, Train Acc=64.77%, Val Acc=69.87%\n",
            "With Aug | Epoch 28: Train Loss=73.3413, Train Acc=62.80%, Val Acc=68.14%\n",
            "With Aug | Epoch 29: Train Loss=69.7289, Train Acc=65.84%, Val Acc=71.14%\n",
            "With Aug | Epoch 30: Train Loss=68.9556, Train Acc=65.24%, Val Acc=64.04%\n",
            "With Aug | Epoch 31: Train Loss=65.8682, Train Acc=67.50%, Val Acc=65.77%\n",
            "With Aug | Epoch 32: Train Loss=64.4794, Train Acc=67.54%, Val Acc=62.62%\n",
            "With Aug | Epoch 33: Train Loss=66.1505, Train Acc=66.07%, Val Acc=66.88%\n",
            "With Aug | Epoch 34: Train Loss=61.3918, Train Acc=69.19%, Val Acc=68.45%\n",
            "With Aug | Epoch 35: Train Loss=60.0738, Train Acc=70.34%, Val Acc=72.24%\n",
            "With Aug | Epoch 36: Train Loss=59.4976, Train Acc=70.89%, Val Acc=76.50%\n",
            "With Aug | Epoch 37: Train Loss=54.6735, Train Acc=73.46%, Val Acc=74.92%\n",
            "With Aug | Epoch 38: Train Loss=56.6395, Train Acc=72.27%, Val Acc=78.55%\n",
            "With Aug | Epoch 39: Train Loss=54.5275, Train Acc=73.62%, Val Acc=75.87%\n",
            "With Aug | Epoch 40: Train Loss=57.1270, Train Acc=72.47%, Val Acc=77.29%\n",
            "With Aug | Epoch 41: Train Loss=49.9936, Train Acc=76.90%, Val Acc=77.29%\n",
            "With Aug | Epoch 42: Train Loss=49.6012, Train Acc=76.50%, Val Acc=72.87%\n",
            "With Aug | Epoch 43: Train Loss=48.0816, Train Acc=77.41%, Val Acc=76.66%\n",
            "With Aug | Epoch 44: Train Loss=49.0182, Train Acc=75.91%, Val Acc=77.29%\n",
            "With Aug | Epoch 45: Train Loss=48.5338, Train Acc=76.58%, Val Acc=79.34%\n",
            "With Aug | Epoch 46: Train Loss=45.9742, Train Acc=78.48%, Val Acc=78.55%\n",
            "With Aug | Epoch 47: Train Loss=45.0318, Train Acc=77.57%, Val Acc=80.76%\n",
            "With Aug | Epoch 48: Train Loss=43.2968, Train Acc=79.86%, Val Acc=81.86%\n",
            "With Aug | Epoch 49: Train Loss=43.2260, Train Acc=78.71%, Val Acc=82.97%\n",
            "With Aug | Epoch 50: Train Loss=41.3551, Train Acc=80.33%, Val Acc=77.76%\n",
            "With Aug | Epoch 51: Train Loss=41.3524, Train Acc=79.86%, Val Acc=82.81%\n",
            "With Aug | Epoch 52: Train Loss=41.7043, Train Acc=80.29%, Val Acc=79.02%\n",
            "With Aug | Epoch 53: Train Loss=42.1055, Train Acc=79.62%, Val Acc=76.66%\n",
            "With Aug | Epoch 54: Train Loss=39.6328, Train Acc=80.33%, Val Acc=72.71%\n",
            "With Aug | Epoch 55: Train Loss=40.4526, Train Acc=80.96%, Val Acc=79.97%\n",
            "With Aug | Epoch 56: Train Loss=37.8077, Train Acc=82.98%, Val Acc=81.86%\n",
            "With Aug | Epoch 57: Train Loss=37.7762, Train Acc=81.91%, Val Acc=83.28%\n",
            "With Aug | Epoch 58: Train Loss=38.0072, Train Acc=81.83%, Val Acc=81.70%\n",
            "With Aug | Epoch 59: Train Loss=38.8968, Train Acc=81.24%, Val Acc=79.65%\n",
            "With Aug | Epoch 60: Train Loss=37.1836, Train Acc=82.39%, Val Acc=81.70%\n",
            "With Aug | Epoch 61: Train Loss=36.0200, Train Acc=84.00%, Val Acc=79.18%\n",
            "With Aug | Epoch 62: Train Loss=33.6052, Train Acc=84.52%, Val Acc=82.81%\n",
            "With Aug | Epoch 63: Train Loss=33.9523, Train Acc=83.65%, Val Acc=84.07%\n",
            "With Aug | Epoch 64: Train Loss=31.6931, Train Acc=84.95%, Val Acc=79.81%\n",
            "With Aug | Epoch 65: Train Loss=36.9588, Train Acc=82.39%, Val Acc=82.65%\n",
            "With Aug | Epoch 66: Train Loss=35.6354, Train Acc=82.70%, Val Acc=80.76%\n",
            "With Aug | Epoch 67: Train Loss=35.9228, Train Acc=83.97%, Val Acc=85.65%\n",
            "With Aug | Epoch 68: Train Loss=38.0511, Train Acc=82.15%, Val Acc=80.13%\n",
            "With Aug | Epoch 69: Train Loss=34.4102, Train Acc=83.81%, Val Acc=80.76%\n",
            "With Aug | Epoch 70: Train Loss=30.1745, Train Acc=85.98%, Val Acc=85.49%\n",
            "With Aug | Epoch 71: Train Loss=30.6426, Train Acc=86.18%, Val Acc=84.23%\n",
            "With Aug | Epoch 72: Train Loss=30.4160, Train Acc=86.41%, Val Acc=82.33%\n",
            "With Aug | Epoch 73: Train Loss=34.2435, Train Acc=83.25%, Val Acc=84.70%\n",
            "With Aug | Epoch 74: Train Loss=29.9296, Train Acc=86.22%, Val Acc=81.07%\n",
            "With Aug | Epoch 75: Train Loss=31.7318, Train Acc=85.11%, Val Acc=82.02%\n",
            "With Aug | Epoch 76: Train Loss=28.6820, Train Acc=86.69%, Val Acc=83.91%\n",
            "With Aug | Epoch 77: Train Loss=28.2090, Train Acc=86.97%, Val Acc=85.33%\n",
            "With Aug | Epoch 78: Train Loss=28.1901, Train Acc=87.28%, Val Acc=86.28%\n",
            "With Aug | Epoch 79: Train Loss=27.5467, Train Acc=87.12%, Val Acc=84.86%\n",
            "With Aug | Epoch 80: Train Loss=30.1853, Train Acc=86.37%, Val Acc=85.65%\n",
            "With Aug | Epoch 81: Train Loss=37.5402, Train Acc=82.42%, Val Acc=84.07%\n",
            "With Aug | Epoch 82: Train Loss=28.1413, Train Acc=87.91%, Val Acc=82.81%\n",
            "With Aug | Epoch 83: Train Loss=28.7033, Train Acc=86.33%, Val Acc=82.49%\n",
            "With Aug | Epoch 84: Train Loss=26.5545, Train Acc=87.32%, Val Acc=85.02%\n",
            "With Aug | Epoch 85: Train Loss=24.7116, Train Acc=88.63%, Val Acc=86.12%\n",
            "With Aug | Epoch 86: Train Loss=23.3886, Train Acc=89.10%, Val Acc=83.91%\n",
            "With Aug | Epoch 87: Train Loss=25.2805, Train Acc=88.23%, Val Acc=86.75%\n",
            "With Aug | Epoch 88: Train Loss=25.7619, Train Acc=88.27%, Val Acc=86.44%\n",
            "With Aug | Epoch 89: Train Loss=24.8714, Train Acc=88.39%, Val Acc=86.91%\n",
            "With Aug | Epoch 90: Train Loss=26.4537, Train Acc=87.80%, Val Acc=86.44%\n",
            "With Aug | Epoch 91: Train Loss=24.1112, Train Acc=88.74%, Val Acc=79.34%\n",
            "With Aug | Epoch 92: Train Loss=24.2911, Train Acc=88.86%, Val Acc=86.12%\n",
            "With Aug | Epoch 93: Train Loss=25.6693, Train Acc=88.43%, Val Acc=83.12%\n",
            "With Aug | Epoch 94: Train Loss=26.7158, Train Acc=87.56%, Val Acc=85.80%\n",
            "With Aug | Epoch 95: Train Loss=24.3182, Train Acc=89.02%, Val Acc=85.02%\n",
            "With Aug | Epoch 96: Train Loss=25.7502, Train Acc=88.35%, Val Acc=85.33%\n",
            "With Aug | Epoch 97: Train Loss=25.4081, Train Acc=88.94%, Val Acc=86.28%\n",
            "With Aug | Epoch 98: Train Loss=24.2217, Train Acc=88.63%, Val Acc=84.07%\n",
            "With Aug | Epoch 99: Train Loss=23.5260, Train Acc=89.22%, Val Acc=85.02%\n",
            "With Aug | Epoch 100: Train Loss=25.9785, Train Acc=87.91%, Val Acc=85.02%\n"
          ]
        }
      ]
    },
    {
      "cell_type": "code",
      "source": [
        "import matplotlib.pyplot as plt\n",
        "\n",
        "\n",
        "#Visualisation to check the analysis and ensuring no model overfitting\n",
        "epochs = list(range(1, len(acc_no_aug) + 1))\n",
        "\n",
        "plt.figure(figsize=(12, 5))\n",
        "\n",
        "plt.subplot(1, 2, 1)\n",
        "plt.plot(epochs, acc_no_aug, label='No Augmentation', marker='o')\n",
        "plt.plot(epochs, acc_aug, label='With Augmentation', marker='o')\n",
        "plt.title('Validation Accuracy Over Epochs')\n",
        "plt.xlabel('Epoch')\n",
        "plt.ylabel('Accuracy (%)')\n",
        "plt.grid(True)\n",
        "plt.legend()\n",
        "\n",
        "plt.subplot(1, 2, 2)\n",
        "plt.plot(epochs, loss_no_aug, label='No Augmentation', marker='o')\n",
        "plt.plot(epochs, loss_aug, label='With Augmentation', marker='o')\n",
        "plt.title('Training Loss Over Epochs')\n",
        "plt.xlabel('Epoch')\n",
        "plt.ylabel('Loss')\n",
        "plt.grid(True)\n",
        "plt.legend()\n",
        "\n",
        "plt.tight_layout()\n",
        "plt.show()"
      ],
      "metadata": {
        "id": "PjCd6kstseLD",
        "colab": {
          "base_uri": "https://localhost:8080/",
          "height": 431
        },
        "outputId": "9f974f6e-acc7-4231-c5b1-e0978b7aa60d"
      },
      "execution_count": 68,
      "outputs": [
        {
          "output_type": "display_data",
          "data": {
            "text/plain": [
              "<Figure size 1200x500 with 2 Axes>"
            ],
            "image/png": "[encoded data removed]"
          },
          "metadata": {}
        }
      ]
    },
    {
      "cell_type": "markdown",
      "source": [
        "Model for the Raw Audio Files (Model 2) -> RNN"
      ],
      "metadata": {
        "id": "HtE_1XRdYcQE"
      }
    },
    {
      "cell_type": "code",
      "source": [
        "#The RNN model and the augmentation functions\n",
        "\n",
        "def add_noise(audio, noise_level=0.005):   #Adding noise to the raw audio and the control for the noise\n",
        "    noise = torch.randn_like(audio) * noise_level\n",
        "    return audio + noise\n",
        "\n",
        "def time_shift(audio, shift_limit=0.1):   #Applying random time shift\n",
        "    shift = int(random.uniform(-shift_limit, shift_limit) * audio.shape[-1])\n",
        "    return torch.roll(audio, shifts=shift, dims=-1) #cyclically shifting the data form\n",
        "\n",
        "def volume_change(audio, gain_range=(0.8, 1.2)):  #Randomly adjusts amplitude of audio signal and gain scales\n",
        "    gain = random.uniform(*gain_range)\n",
        "    return audio * gain\n",
        "\n",
        "#Custon dataset for raw audio data that supports augmentation and frames waveform for RNN input\n",
        "class RawAudioDataset(Dataset):\n",
        "    def __init__(self, X_raw, y, augment=False, delay_aug_epochs=0, mix_prob=0.5):\n",
        "        self.X = X_raw\n",
        "        self.y = y\n",
        "        self.augment = augment\n",
        "        self.delay_aug_epochs = delay_aug_epochs\n",
        "        self.mix_prob = mix_prob\n",
        "        self.current_epoch = 0\n",
        "\n",
        "    def __getitem__(self, idx):  #Get audio sample, apply aug. if aug. enabled and delay condition is met\n",
        "        x = self.X[idx].squeeze(0)\n",
        "        y = self.y[idx]\n",
        "\n",
        "        #Conditional augmentation\n",
        "        if self.augment and self.current_epoch >= self.delay_aug_epochs:\n",
        "            if random.random() < self.mix_prob:\n",
        "                if random.random() < 0.7:\n",
        "                    x = add_noise(x)\n",
        "                if random.random() < 0.5:\n",
        "                    x = time_shift(x)\n",
        "                if random.random() < 0.3:\n",
        "                    x = volume_change(x)\n",
        "\n",
        "        x = x.unfold(0, 400, 160) #Frame raw waveform\n",
        "        return x, y\n",
        "\n",
        "    def __len__(self):\n",
        "        return len(self.y)\n",
        "\n",
        "    def set_epoch(self, epoch):  #Updating current epoch for delayed augmentation start\n",
        "        self.current_epoch = epoch"
      ],
      "metadata": {
        "id": "Lw98OCz9YYPJ"
      },
      "execution_count": 69,
      "outputs": []
    },
    {
      "cell_type": "code",
      "source": [
        "from sklearn.model_selection import train_test_split\n",
        "from torch.utils.data import DataLoader, Subset\n",
        "\n",
        "#Prepare the raw dataset for RNN\n",
        "X_raw_audio_rnn = X_raw_audio.squeeze(1)\n",
        "X_rnn = X_raw_audio_rnn.unfold(dimension=1, size=400, step=160)\n",
        "\n",
        "#Training and Validation splits\n",
        "indices = np.arange(len(y))\n",
        "train_idx, val_idx = train_test_split(indices, test_size=0.2, stratify=y, random_state=42)\n",
        "\n",
        "#Validation dataset (with no augmentation) and validation loader\n",
        "val_dataset_raw = RawAudioDataset(X_raw_audio, y, augment=False)\n",
        "val_loader_raw = DataLoader(Subset(val_dataset_raw, val_idx), batch_size=32, shuffle=False)\n",
        "\n",
        "class Raw_RNN(nn.Module):\n",
        "    \"\"\"\n",
        "    Bidirectional GRU based RNN model that takes raw waveform as input and outputs the class logits\n",
        "    \"\"\"\n",
        "    def __init__(self, input_dim=400, hidden_dim=128, num_layers=2, num_classes=5, dropout=0.3):\n",
        "        super(Raw_RNN, self).__init__()   #Initialising the GRU layers with dropout\n",
        "        self.rnn = nn.GRU(input_size=input_dim, hidden_size=hidden_dim,\n",
        "                          num_layers=num_layers, batch_first=True, bidirectional=True, dropout=dropout)\n",
        "        self.dropout = nn.Dropout(dropout)  #Dropout layer before classification\n",
        "        self.classifier = nn.Linear(hidden_dim * 2, num_classes)  #Final linear layer that maps hidden states to output logits\n",
        "\n",
        "    def forward(self, x):\n",
        "        rnn_out, _ = self.rnn(x)   #GRU forward\n",
        "        pooled = rnn_out.mean(dim=1)  #Global average pooling\n",
        "        x = self.dropout(pooled)  #Dropout regularisation\n",
        "        return self.classifier(x)"
      ],
      "metadata": {
        "id": "Om1echU3ITjH"
      },
      "execution_count": 70,
      "outputs": []
    },
    {
      "cell_type": "code",
      "source": [
        "def evaluate(model, val_loader, accent_val, gender_val):\n",
        "  \"\"\"\n",
        "  Evaluates the trained model on the validation set through overall accuracy,\n",
        "  accuracy for accent and, for troubleshooting, gender.\n",
        "  \"\"\"\n",
        "  model.eval()\n",
        "  all_preds = []\n",
        "  all_targets = []\n",
        "\n",
        "  with torch.no_grad():\n",
        "    for inputs, targets in val_loader:\n",
        "      inputs, targets = inputs.to(device), targets.to(device)\n",
        "      outputs = model(inputs)\n",
        "      preds = outputs.argmax(dim=1)\n",
        "      all_preds.extend(preds.cpu().numpy())\n",
        "      all_targets.extend(targets.cpu().numpy())\n",
        "\n",
        "  all_preds = np.array(all_preds)\n",
        "  all_targets = np.array(all_targets)\n",
        "  accent_val = accent_val.numpy()\n",
        "  gender_val = gender_val.numpy()\n",
        "\n",
        "  overall_acc = accuracy_score(all_targets, all_preds)\n",
        "  print(\"\\n Accuracy per Accent:\")\n",
        "  for accent in np.unique(accent_val):\n",
        "    indices = np.where(accent_val == accent)[0]\n",
        "    acc = accuracy_score(all_targets[indices], all_preds[indices])\n",
        "    print(f\"Accent {accent + 1}: {acc * 100:.2f}%\")\n",
        "  print(\"\\n Accuracy per Gender:\")\n",
        "  for g in [0, 1]:\n",
        "    label = \"Male\" if g == 0 else \"Female\"\n",
        "    indices = np.where(gender_val == g)[0]\n",
        "    acc = accuracy_score(all_targets[indices], all_preds[indices])\n",
        "    print(f\"{label}: {acc * 100:.2f}%\")\n",
        "\n",
        "  print(f\"\\n Overall Accuracy: {overall_acc * 100:.2f}%\")\n",
        "  model.train()"
      ],
      "metadata": {
        "id": "u3flFRbWfWDw"
      },
      "execution_count": 71,
      "outputs": []
    },
    {
      "cell_type": "code",
      "source": [
        "from sklearn.metrics import accuracy_score\n",
        "\n",
        "def train_model(model, train_loader, val_loader, accent_val, gender_val, label=\"\"):\n",
        "  \"\"\"\n",
        "  Trains the model through tracking training loss and accuracy for each epoch.\n",
        "  - Computes validation accuracy at each epoch\n",
        "  - Uses Adam optimizer and CrossEntropyLoss\n",
        "  \"\"\"\n",
        "  train_loss_log, val_acc_log = [], []\n",
        "\n",
        "  # Loss function and optimiser\n",
        "  criterion = nn.CrossEntropyLoss()\n",
        "  optimizer = torch.optim.Adam(model.parameters(), lr=1e-4, weight_decay=1e-6)\n",
        "\n",
        "  for epoch in range(100):\n",
        "    model.train()\n",
        "\n",
        "    if hasattr(train_loader.dataset, 'set_epoch'):  # If dataset has aug. delay, updates epoch\n",
        "      train_loader.dataset.set_epoch(epoch)\n",
        "\n",
        "    total_loss = 0\n",
        "    correct = 0\n",
        "    total = 0\n",
        "\n",
        "    # Training loop\n",
        "    for inputs, targets in train_loader:\n",
        "      inputs, targets = inputs.to(device), targets.to(device)\n",
        "      optimizer.zero_grad()  # Zero gradients\n",
        "      outputs = model(inputs)  # Forward pass\n",
        "      loss = criterion(outputs, targets)\n",
        "      loss.backward()  # Backwards pass and updating weights\n",
        "      optimizer.step()\n",
        "\n",
        "      # Updating metrics\n",
        "      total_loss += loss.item()\n",
        "      preds = outputs.argmax(dim=1)\n",
        "      correct += (preds == targets).sum().item()\n",
        "      total += targets.size(0)\n",
        "\n",
        "    # Compute accuracy for each epoch\n",
        "    train_acc = correct / total * 100\n",
        "    train_loss_log.append(total_loss)\n",
        "\n",
        "    # Validation evaluation\n",
        "    model.eval()\n",
        "    all_preds, all_targets = [], []\n",
        "    with torch.no_grad():\n",
        "      for inputs, targets in val_loader:\n",
        "        inputs, targets = inputs.to(device), targets.to(device)\n",
        "        outputs = model(inputs)\n",
        "        preds = outputs.argmax(dim=1)\n",
        "        all_preds.extend(preds.cpu().numpy())\n",
        "        all_targets.extend(targets.cpu().numpy())\n",
        "\n",
        "    # Compute validation accuracy for this epoch\n",
        "    val_acc = accuracy_score(all_targets, all_preds) * 100\n",
        "    val_acc_log.append(val_acc)\n",
        "\n",
        "    print(f\"{label} | Epoch {epoch+1}: Train Loss={total_loss:.4f}, \"\n",
        "          f\"Train Acc={train_acc:.2f}%, Val Acc={val_acc:.2f}%\")\n",
        "\n",
        "  return train_loss_log, val_acc_log\n",
        "\n",
        "# Create training dataset and dataloader for RNN w/o aug.\n",
        "train_dataset_raw_noaug = RawAudioDataset(X_raw_audio, y, augment=False)\n",
        "train_loader_raw_noaug = DataLoader(\n",
        "  Subset(train_dataset_raw_noaug, train_idx),\n",
        "  batch_size=32,\n",
        "  shuffle=True\n",
        ")\n",
        "\n",
        "# Training RNN w/o aug.\n",
        "model_rnn_noaug = Raw_RNN().to(device)\n",
        "loss_rnn_noaug, acc_rnn_noaug = train_model(\n",
        "  model_rnn_noaug,\n",
        "  train_loader_raw_noaug,\n",
        "  val_loader_raw,\n",
        "  accent_val,\n",
        "  gender_val,\n",
        "  label=\"Raw RNN (No Aug)\"\n",
        ")\n",
        "\n",
        "# Create training dataset and dataloader for RNN w/ aug.\n",
        "train_dataset_raw_aug = RawAudioDataset(\n",
        "  X_raw_audio,\n",
        "  y,\n",
        "  augment=True,\n",
        "  delay_aug_epochs=5,\n",
        "  mix_prob=0.5\n",
        ")\n",
        "train_loader_raw_aug = DataLoader(\n",
        "  Subset(train_dataset_raw_aug, train_idx),\n",
        "  batch_size=32,\n",
        "  shuffle=True\n",
        ")\n",
        "\n",
        "# Training RNN w/ aug.\n",
        "model_rnn_aug = Raw_RNN().to(device)\n",
        "loss_rnn_aug, acc_rnn_aug = train_model(\n",
        "  model_rnn_aug,\n",
        "  train_loader_raw_aug,\n",
        "  val_loader_raw,\n",
        "  accent_val,\n",
        "  gender_val,\n",
        "  label=\"Raw RNN (With Aug)\"\n",
        ")"
      ],
      "metadata": {
        "id": "9wlAih-QL030",
        "colab": {
          "base_uri": "https://localhost:8080/"
        },
        "outputId": "a401e852-70f8-4b7c-c7b7-fbfecd766f1d"
      },
      "execution_count": 72,
      "outputs": [
        {
          "output_type": "stream",
          "name": "stdout",
          "text": [
            "Raw RNN (No Aug) | Epoch 1: Train Loss=124.9219, Train Acc=33.06%, Val Acc=34.86%\n",
            "Raw RNN (No Aug) | Epoch 2: Train Loss=116.0850, Train Acc=35.55%, Val Acc=37.54%\n",
            "Raw RNN (No Aug) | Epoch 3: Train Loss=107.2570, Train Acc=39.97%, Val Acc=41.17%\n",
            "Raw RNN (No Aug) | Epoch 4: Train Loss=98.6622, Train Acc=44.87%, Val Acc=44.64%\n",
            "Raw RNN (No Aug) | Epoch 5: Train Loss=91.7215, Train Acc=48.97%, Val Acc=47.00%\n",
            "Raw RNN (No Aug) | Epoch 6: Train Loss=86.5303, Train Acc=52.57%, Val Acc=52.05%\n",
            "Raw RNN (No Aug) | Epoch 7: Train Loss=83.1279, Train Acc=54.78%, Val Acc=52.21%\n",
            "Raw RNN (No Aug) | Epoch 8: Train Loss=80.6737, Train Acc=56.83%, Val Acc=52.52%\n",
            "Raw RNN (No Aug) | Epoch 9: Train Loss=77.7777, Train Acc=59.00%, Val Acc=52.37%\n",
            "Raw RNN (No Aug) | Epoch 10: Train Loss=76.4070, Train Acc=60.47%, Val Acc=55.05%\n",
            "Raw RNN (No Aug) | Epoch 11: Train Loss=74.0809, Train Acc=61.77%, Val Acc=55.99%\n",
            "Raw RNN (No Aug) | Epoch 12: Train Loss=71.7816, Train Acc=62.36%, Val Acc=55.99%\n",
            "Raw RNN (No Aug) | Epoch 13: Train Loss=70.5330, Train Acc=63.27%, Val Acc=55.21%\n",
            "Raw RNN (No Aug) | Epoch 14: Train Loss=80.8401, Train Acc=57.82%, Val Acc=50.32%\n",
            "Raw RNN (No Aug) | Epoch 15: Train Loss=77.7955, Train Acc=60.11%, Val Acc=56.78%\n",
            "Raw RNN (No Aug) | Epoch 16: Train Loss=71.8282, Train Acc=63.27%, Val Acc=56.78%\n",
            "Raw RNN (No Aug) | Epoch 17: Train Loss=67.3877, Train Acc=65.13%, Val Acc=57.57%\n",
            "Raw RNN (No Aug) | Epoch 18: Train Loss=64.8655, Train Acc=66.23%, Val Acc=56.15%\n",
            "Raw RNN (No Aug) | Epoch 19: Train Loss=62.5045, Train Acc=68.17%, Val Acc=56.47%\n",
            "Raw RNN (No Aug) | Epoch 20: Train Loss=61.9919, Train Acc=67.58%, Val Acc=58.04%\n",
            "Raw RNN (No Aug) | Epoch 21: Train Loss=59.2632, Train Acc=70.97%, Val Acc=58.20%\n",
            "Raw RNN (No Aug) | Epoch 22: Train Loss=57.8547, Train Acc=70.77%, Val Acc=56.47%\n",
            "Raw RNN (No Aug) | Epoch 23: Train Loss=56.5065, Train Acc=72.59%, Val Acc=58.04%\n",
            "Raw RNN (No Aug) | Epoch 24: Train Loss=54.5831, Train Acc=73.14%, Val Acc=58.52%\n",
            "Raw RNN (No Aug) | Epoch 25: Train Loss=53.0100, Train Acc=74.76%, Val Acc=57.89%\n",
            "Raw RNN (No Aug) | Epoch 26: Train Loss=51.2446, Train Acc=75.39%, Val Acc=57.73%\n",
            "Raw RNN (No Aug) | Epoch 27: Train Loss=49.6506, Train Acc=75.47%, Val Acc=59.62%\n",
            "Raw RNN (No Aug) | Epoch 28: Train Loss=48.6679, Train Acc=77.29%, Val Acc=58.99%\n",
            "Raw RNN (No Aug) | Epoch 29: Train Loss=47.1173, Train Acc=77.76%, Val Acc=57.89%\n",
            "Raw RNN (No Aug) | Epoch 30: Train Loss=47.3682, Train Acc=77.17%, Val Acc=57.89%\n",
            "Raw RNN (No Aug) | Epoch 31: Train Loss=45.7424, Train Acc=79.15%, Val Acc=59.15%\n",
            "Raw RNN (No Aug) | Epoch 32: Train Loss=42.7347, Train Acc=80.61%, Val Acc=59.46%\n",
            "Raw RNN (No Aug) | Epoch 33: Train Loss=41.3672, Train Acc=81.60%, Val Acc=57.57%\n",
            "Raw RNN (No Aug) | Epoch 34: Train Loss=40.8320, Train Acc=82.94%, Val Acc=58.52%\n",
            "Raw RNN (No Aug) | Epoch 35: Train Loss=38.9831, Train Acc=82.90%, Val Acc=59.15%\n",
            "Raw RNN (No Aug) | Epoch 36: Train Loss=36.1208, Train Acc=84.48%, Val Acc=59.62%\n",
            "Raw RNN (No Aug) | Epoch 37: Train Loss=39.2754, Train Acc=82.19%, Val Acc=53.94%\n",
            "Raw RNN (No Aug) | Epoch 38: Train Loss=35.6854, Train Acc=84.48%, Val Acc=59.78%\n",
            "Raw RNN (No Aug) | Epoch 39: Train Loss=33.9195, Train Acc=85.27%, Val Acc=58.20%\n",
            "Raw RNN (No Aug) | Epoch 40: Train Loss=30.6748, Train Acc=87.56%, Val Acc=59.46%\n",
            "Raw RNN (No Aug) | Epoch 41: Train Loss=30.3040, Train Acc=87.60%, Val Acc=59.31%\n",
            "Raw RNN (No Aug) | Epoch 42: Train Loss=29.9304, Train Acc=87.91%, Val Acc=59.46%\n",
            "Raw RNN (No Aug) | Epoch 43: Train Loss=26.6602, Train Acc=90.56%, Val Acc=58.83%\n",
            "Raw RNN (No Aug) | Epoch 44: Train Loss=25.6968, Train Acc=89.73%, Val Acc=59.46%\n",
            "Raw RNN (No Aug) | Epoch 45: Train Loss=26.3767, Train Acc=89.57%, Val Acc=60.25%\n",
            "Raw RNN (No Aug) | Epoch 46: Train Loss=24.4104, Train Acc=90.40%, Val Acc=59.31%\n",
            "Raw RNN (No Aug) | Epoch 47: Train Loss=23.6960, Train Acc=90.96%, Val Acc=59.46%\n",
            "Raw RNN (No Aug) | Epoch 48: Train Loss=22.3798, Train Acc=91.35%, Val Acc=58.83%\n",
            "Raw RNN (No Aug) | Epoch 49: Train Loss=20.0735, Train Acc=92.97%, Val Acc=57.57%\n",
            "Raw RNN (No Aug) | Epoch 50: Train Loss=20.2689, Train Acc=92.02%, Val Acc=60.09%\n",
            "Raw RNN (No Aug) | Epoch 51: Train Loss=16.9984, Train Acc=94.51%, Val Acc=57.89%\n",
            "Raw RNN (No Aug) | Epoch 52: Train Loss=16.7779, Train Acc=94.15%, Val Acc=61.20%\n",
            "Raw RNN (No Aug) | Epoch 53: Train Loss=20.7696, Train Acc=91.75%, Val Acc=58.68%\n",
            "Raw RNN (No Aug) | Epoch 54: Train Loss=17.5538, Train Acc=93.76%, Val Acc=60.88%\n",
            "Raw RNN (No Aug) | Epoch 55: Train Loss=15.1210, Train Acc=94.83%, Val Acc=59.31%\n",
            "Raw RNN (No Aug) | Epoch 56: Train Loss=14.1212, Train Acc=95.62%, Val Acc=59.31%\n",
            "Raw RNN (No Aug) | Epoch 57: Train Loss=13.5925, Train Acc=95.62%, Val Acc=60.41%\n",
            "Raw RNN (No Aug) | Epoch 58: Train Loss=18.2393, Train Acc=92.34%, Val Acc=61.67%\n",
            "Raw RNN (No Aug) | Epoch 59: Train Loss=17.1695, Train Acc=93.88%, Val Acc=61.04%\n",
            "Raw RNN (No Aug) | Epoch 60: Train Loss=12.6797, Train Acc=96.05%, Val Acc=59.94%\n",
            "Raw RNN (No Aug) | Epoch 61: Train Loss=13.6376, Train Acc=95.42%, Val Acc=61.04%\n",
            "Raw RNN (No Aug) | Epoch 62: Train Loss=12.7953, Train Acc=95.77%, Val Acc=61.51%\n",
            "Raw RNN (No Aug) | Epoch 63: Train Loss=12.9620, Train Acc=96.05%, Val Acc=61.51%\n",
            "Raw RNN (No Aug) | Epoch 64: Train Loss=12.4852, Train Acc=95.46%, Val Acc=60.73%\n",
            "Raw RNN (No Aug) | Epoch 65: Train Loss=14.2095, Train Acc=94.59%, Val Acc=60.57%\n",
            "Raw RNN (No Aug) | Epoch 66: Train Loss=14.7899, Train Acc=95.10%, Val Acc=59.62%\n",
            "Raw RNN (No Aug) | Epoch 67: Train Loss=19.5518, Train Acc=91.67%, Val Acc=58.68%\n",
            "Raw RNN (No Aug) | Epoch 68: Train Loss=13.4190, Train Acc=95.85%, Val Acc=60.09%\n",
            "Raw RNN (No Aug) | Epoch 69: Train Loss=11.9570, Train Acc=96.01%, Val Acc=59.62%\n",
            "Raw RNN (No Aug) | Epoch 70: Train Loss=10.6402, Train Acc=96.37%, Val Acc=60.88%\n",
            "Raw RNN (No Aug) | Epoch 71: Train Loss=10.3182, Train Acc=97.35%, Val Acc=59.15%\n",
            "Raw RNN (No Aug) | Epoch 72: Train Loss=17.7469, Train Acc=93.09%, Val Acc=60.25%\n",
            "Raw RNN (No Aug) | Epoch 73: Train Loss=10.4744, Train Acc=96.52%, Val Acc=60.57%\n",
            "Raw RNN (No Aug) | Epoch 74: Train Loss=8.7090, Train Acc=97.59%, Val Acc=60.73%\n",
            "Raw RNN (No Aug) | Epoch 75: Train Loss=10.2335, Train Acc=96.41%, Val Acc=59.31%\n",
            "Raw RNN (No Aug) | Epoch 76: Train Loss=8.7764, Train Acc=97.75%, Val Acc=62.15%\n",
            "Raw RNN (No Aug) | Epoch 77: Train Loss=11.7796, Train Acc=95.93%, Val Acc=61.83%\n",
            "Raw RNN (No Aug) | Epoch 78: Train Loss=9.3186, Train Acc=96.64%, Val Acc=61.04%\n",
            "Raw RNN (No Aug) | Epoch 79: Train Loss=8.8017, Train Acc=97.59%, Val Acc=61.51%\n",
            "Raw RNN (No Aug) | Epoch 80: Train Loss=7.3690, Train Acc=98.03%, Val Acc=62.15%\n",
            "Raw RNN (No Aug) | Epoch 81: Train Loss=6.6243, Train Acc=98.26%, Val Acc=61.67%\n",
            "Raw RNN (No Aug) | Epoch 82: Train Loss=5.7629, Train Acc=98.82%, Val Acc=60.88%\n",
            "Raw RNN (No Aug) | Epoch 83: Train Loss=5.3016, Train Acc=99.05%, Val Acc=60.25%\n",
            "Raw RNN (No Aug) | Epoch 84: Train Loss=10.1464, Train Acc=96.64%, Val Acc=63.09%\n",
            "Raw RNN (No Aug) | Epoch 85: Train Loss=6.9372, Train Acc=98.30%, Val Acc=60.57%\n",
            "Raw RNN (No Aug) | Epoch 86: Train Loss=5.5690, Train Acc=98.78%, Val Acc=61.20%\n",
            "Raw RNN (No Aug) | Epoch 87: Train Loss=4.6053, Train Acc=99.01%, Val Acc=60.41%\n",
            "Raw RNN (No Aug) | Epoch 88: Train Loss=79.4462, Train Acc=76.70%, Val Acc=54.42%\n",
            "Raw RNN (No Aug) | Epoch 89: Train Loss=48.0264, Train Acc=77.80%, Val Acc=59.15%\n",
            "Raw RNN (No Aug) | Epoch 90: Train Loss=29.8406, Train Acc=86.18%, Val Acc=60.57%\n",
            "Raw RNN (No Aug) | Epoch 91: Train Loss=22.9018, Train Acc=89.61%, Val Acc=60.57%\n",
            "Raw RNN (No Aug) | Epoch 92: Train Loss=19.1663, Train Acc=91.31%, Val Acc=61.67%\n",
            "Raw RNN (No Aug) | Epoch 93: Train Loss=16.3963, Train Acc=92.42%, Val Acc=61.20%\n",
            "Raw RNN (No Aug) | Epoch 94: Train Loss=15.1008, Train Acc=93.68%, Val Acc=60.41%\n",
            "Raw RNN (No Aug) | Epoch 95: Train Loss=12.5209, Train Acc=94.87%, Val Acc=61.83%\n",
            "Raw RNN (No Aug) | Epoch 96: Train Loss=12.5596, Train Acc=95.14%, Val Acc=60.57%\n",
            "Raw RNN (No Aug) | Epoch 97: Train Loss=10.3604, Train Acc=95.85%, Val Acc=59.31%\n",
            "Raw RNN (No Aug) | Epoch 98: Train Loss=9.4395, Train Acc=96.80%, Val Acc=60.73%\n",
            "Raw RNN (No Aug) | Epoch 99: Train Loss=8.0461, Train Acc=97.79%, Val Acc=60.73%\n",
            "Raw RNN (No Aug) | Epoch 100: Train Loss=8.7038, Train Acc=96.88%, Val Acc=59.94%\n",
            "Raw RNN (With Aug) | Epoch 1: Train Loss=125.6649, Train Acc=31.44%, Val Acc=35.02%\n",
            "Raw RNN (With Aug) | Epoch 2: Train Loss=117.7436, Train Acc=35.55%, Val Acc=36.59%\n",
            "Raw RNN (With Aug) | Epoch 3: Train Loss=108.4180, Train Acc=39.81%, Val Acc=41.17%\n",
            "Raw RNN (With Aug) | Epoch 4: Train Loss=99.0942, Train Acc=44.00%, Val Acc=46.06%\n",
            "Raw RNN (With Aug) | Epoch 5: Train Loss=92.6721, Train Acc=48.74%, Val Acc=48.74%\n",
            "Raw RNN (With Aug) | Epoch 6: Train Loss=88.1623, Train Acc=51.62%, Val Acc=53.63%\n",
            "Raw RNN (With Aug) | Epoch 7: Train Loss=83.7108, Train Acc=54.62%, Val Acc=53.31%\n",
            "Raw RNN (With Aug) | Epoch 8: Train Loss=81.3861, Train Acc=55.53%, Val Acc=51.89%\n",
            "Raw RNN (With Aug) | Epoch 9: Train Loss=80.9216, Train Acc=57.23%, Val Acc=53.31%\n",
            "Raw RNN (With Aug) | Epoch 10: Train Loss=82.1220, Train Acc=56.75%, Val Acc=54.10%\n",
            "Raw RNN (With Aug) | Epoch 11: Train Loss=78.3758, Train Acc=57.98%, Val Acc=54.89%\n",
            "Raw RNN (With Aug) | Epoch 12: Train Loss=75.2145, Train Acc=62.09%, Val Acc=54.42%\n",
            "Raw RNN (With Aug) | Epoch 13: Train Loss=73.7574, Train Acc=62.60%, Val Acc=54.26%\n",
            "Raw RNN (With Aug) | Epoch 14: Train Loss=72.1666, Train Acc=62.28%, Val Acc=55.99%\n",
            "Raw RNN (With Aug) | Epoch 15: Train Loss=70.9628, Train Acc=63.27%, Val Acc=57.89%\n",
            "Raw RNN (With Aug) | Epoch 16: Train Loss=68.4163, Train Acc=64.89%, Val Acc=56.62%\n",
            "Raw RNN (With Aug) | Epoch 17: Train Loss=67.8156, Train Acc=65.76%, Val Acc=58.20%\n",
            "Raw RNN (With Aug) | Epoch 18: Train Loss=64.5061, Train Acc=68.01%, Val Acc=57.57%\n",
            "Raw RNN (With Aug) | Epoch 19: Train Loss=66.8979, Train Acc=66.55%, Val Acc=54.10%\n",
            "Raw RNN (With Aug) | Epoch 20: Train Loss=73.1378, Train Acc=62.40%, Val Acc=59.78%\n",
            "Raw RNN (With Aug) | Epoch 21: Train Loss=64.3106, Train Acc=67.85%, Val Acc=57.57%\n",
            "Raw RNN (With Aug) | Epoch 22: Train Loss=60.9458, Train Acc=70.02%, Val Acc=60.09%\n",
            "Raw RNN (With Aug) | Epoch 23: Train Loss=58.2195, Train Acc=72.43%, Val Acc=57.73%\n",
            "Raw RNN (With Aug) | Epoch 24: Train Loss=57.6647, Train Acc=71.33%, Val Acc=58.52%\n",
            "Raw RNN (With Aug) | Epoch 25: Train Loss=54.6383, Train Acc=74.45%, Val Acc=58.20%\n",
            "Raw RNN (With Aug) | Epoch 26: Train Loss=53.0338, Train Acc=74.45%, Val Acc=60.88%\n",
            "Raw RNN (With Aug) | Epoch 27: Train Loss=51.6628, Train Acc=75.39%, Val Acc=60.57%\n",
            "Raw RNN (With Aug) | Epoch 28: Train Loss=49.4894, Train Acc=75.79%, Val Acc=58.68%\n",
            "Raw RNN (With Aug) | Epoch 29: Train Loss=48.3189, Train Acc=76.90%, Val Acc=59.94%\n",
            "Raw RNN (With Aug) | Epoch 30: Train Loss=46.2152, Train Acc=77.76%, Val Acc=59.94%\n",
            "Raw RNN (With Aug) | Epoch 31: Train Loss=44.2894, Train Acc=79.34%, Val Acc=59.78%\n",
            "Raw RNN (With Aug) | Epoch 32: Train Loss=44.8113, Train Acc=78.63%, Val Acc=59.94%\n",
            "Raw RNN (With Aug) | Epoch 33: Train Loss=43.9418, Train Acc=79.07%, Val Acc=61.83%\n",
            "Raw RNN (With Aug) | Epoch 34: Train Loss=40.4122, Train Acc=82.11%, Val Acc=62.15%\n",
            "Raw RNN (With Aug) | Epoch 35: Train Loss=39.3008, Train Acc=83.61%, Val Acc=61.36%\n",
            "Raw RNN (With Aug) | Epoch 36: Train Loss=36.7099, Train Acc=84.20%, Val Acc=60.41%\n",
            "Raw RNN (With Aug) | Epoch 37: Train Loss=35.5477, Train Acc=84.68%, Val Acc=61.20%\n",
            "Raw RNN (With Aug) | Epoch 38: Train Loss=39.2881, Train Acc=82.50%, Val Acc=56.47%\n",
            "Raw RNN (With Aug) | Epoch 39: Train Loss=38.7233, Train Acc=82.70%, Val Acc=60.25%\n",
            "Raw RNN (With Aug) | Epoch 40: Train Loss=32.8027, Train Acc=86.37%, Val Acc=61.36%\n",
            "Raw RNN (With Aug) | Epoch 41: Train Loss=31.8046, Train Acc=86.26%, Val Acc=61.20%\n",
            "Raw RNN (With Aug) | Epoch 42: Train Loss=29.2265, Train Acc=88.39%, Val Acc=63.09%\n",
            "Raw RNN (With Aug) | Epoch 43: Train Loss=29.9740, Train Acc=87.28%, Val Acc=61.83%\n",
            "Raw RNN (With Aug) | Epoch 44: Train Loss=28.5610, Train Acc=87.72%, Val Acc=61.20%\n",
            "Raw RNN (With Aug) | Epoch 45: Train Loss=25.4966, Train Acc=89.89%, Val Acc=62.62%\n",
            "Raw RNN (With Aug) | Epoch 46: Train Loss=23.3497, Train Acc=90.72%, Val Acc=61.51%\n",
            "Raw RNN (With Aug) | Epoch 47: Train Loss=23.5967, Train Acc=90.84%, Val Acc=62.78%\n",
            "Raw RNN (With Aug) | Epoch 48: Train Loss=23.4547, Train Acc=90.28%, Val Acc=61.67%\n",
            "Raw RNN (With Aug) | Epoch 49: Train Loss=22.5645, Train Acc=90.80%, Val Acc=62.93%\n",
            "Raw RNN (With Aug) | Epoch 50: Train Loss=26.1286, Train Acc=88.70%, Val Acc=63.72%\n",
            "Raw RNN (With Aug) | Epoch 51: Train Loss=19.2168, Train Acc=92.42%, Val Acc=62.93%\n",
            "Raw RNN (With Aug) | Epoch 52: Train Loss=29.4792, Train Acc=87.28%, Val Acc=56.15%\n",
            "Raw RNN (With Aug) | Epoch 53: Train Loss=30.9295, Train Acc=85.70%, Val Acc=63.56%\n",
            "Raw RNN (With Aug) | Epoch 54: Train Loss=20.4203, Train Acc=91.90%, Val Acc=63.09%\n",
            "Raw RNN (With Aug) | Epoch 55: Train Loss=19.0220, Train Acc=92.93%, Val Acc=63.72%\n",
            "Raw RNN (With Aug) | Epoch 56: Train Loss=18.2808, Train Acc=93.09%, Val Acc=63.09%\n",
            "Raw RNN (With Aug) | Epoch 57: Train Loss=18.9136, Train Acc=93.05%, Val Acc=62.30%\n",
            "Raw RNN (With Aug) | Epoch 58: Train Loss=17.1633, Train Acc=94.00%, Val Acc=60.73%\n",
            "Raw RNN (With Aug) | Epoch 59: Train Loss=17.1126, Train Acc=93.48%, Val Acc=64.35%\n",
            "Raw RNN (With Aug) | Epoch 60: Train Loss=13.5823, Train Acc=95.70%, Val Acc=62.15%\n",
            "Raw RNN (With Aug) | Epoch 61: Train Loss=11.7168, Train Acc=96.29%, Val Acc=63.56%\n",
            "Raw RNN (With Aug) | Epoch 62: Train Loss=11.6361, Train Acc=96.48%, Val Acc=64.20%\n",
            "Raw RNN (With Aug) | Epoch 63: Train Loss=11.2200, Train Acc=96.25%, Val Acc=63.56%\n",
            "Raw RNN (With Aug) | Epoch 64: Train Loss=11.2668, Train Acc=97.04%, Val Acc=63.88%\n",
            "Raw RNN (With Aug) | Epoch 65: Train Loss=10.0633, Train Acc=96.80%, Val Acc=62.30%\n",
            "Raw RNN (With Aug) | Epoch 66: Train Loss=10.0098, Train Acc=96.56%, Val Acc=63.72%\n",
            "Raw RNN (With Aug) | Epoch 67: Train Loss=9.0405, Train Acc=97.43%, Val Acc=62.62%\n",
            "Raw RNN (With Aug) | Epoch 68: Train Loss=8.8654, Train Acc=97.20%, Val Acc=63.09%\n",
            "Raw RNN (With Aug) | Epoch 69: Train Loss=8.7018, Train Acc=97.31%, Val Acc=62.93%\n",
            "Raw RNN (With Aug) | Epoch 70: Train Loss=10.5465, Train Acc=96.21%, Val Acc=61.99%\n",
            "Raw RNN (With Aug) | Epoch 71: Train Loss=7.9045, Train Acc=97.63%, Val Acc=62.78%\n",
            "Raw RNN (With Aug) | Epoch 72: Train Loss=28.4727, Train Acc=91.27%, Val Acc=41.96%\n",
            "Raw RNN (With Aug) | Epoch 73: Train Loss=45.3867, Train Acc=79.34%, Val Acc=59.46%\n",
            "Raw RNN (With Aug) | Epoch 74: Train Loss=27.0669, Train Acc=88.27%, Val Acc=63.09%\n",
            "Raw RNN (With Aug) | Epoch 75: Train Loss=16.6738, Train Acc=94.31%, Val Acc=62.62%\n",
            "Raw RNN (With Aug) | Epoch 76: Train Loss=14.6094, Train Acc=94.39%, Val Acc=62.46%\n",
            "Raw RNN (With Aug) | Epoch 77: Train Loss=10.7260, Train Acc=96.48%, Val Acc=62.78%\n",
            "Raw RNN (With Aug) | Epoch 78: Train Loss=10.6084, Train Acc=96.41%, Val Acc=60.57%\n",
            "Raw RNN (With Aug) | Epoch 79: Train Loss=7.6357, Train Acc=97.71%, Val Acc=63.09%\n",
            "Raw RNN (With Aug) | Epoch 80: Train Loss=9.7420, Train Acc=96.60%, Val Acc=61.99%\n",
            "Raw RNN (With Aug) | Epoch 81: Train Loss=9.9725, Train Acc=96.21%, Val Acc=62.15%\n",
            "Raw RNN (With Aug) | Epoch 82: Train Loss=6.7677, Train Acc=98.10%, Val Acc=62.15%\n",
            "Raw RNN (With Aug) | Epoch 83: Train Loss=5.6779, Train Acc=98.54%, Val Acc=63.88%\n",
            "Raw RNN (With Aug) | Epoch 84: Train Loss=4.9808, Train Acc=98.85%, Val Acc=63.56%\n",
            "Raw RNN (With Aug) | Epoch 85: Train Loss=12.7715, Train Acc=95.10%, Val Acc=63.25%\n",
            "Raw RNN (With Aug) | Epoch 86: Train Loss=8.8507, Train Acc=96.76%, Val Acc=60.57%\n",
            "Raw RNN (With Aug) | Epoch 87: Train Loss=6.6992, Train Acc=97.87%, Val Acc=63.25%\n",
            "Raw RNN (With Aug) | Epoch 88: Train Loss=4.9127, Train Acc=98.78%, Val Acc=60.73%\n",
            "Raw RNN (With Aug) | Epoch 89: Train Loss=4.7090, Train Acc=98.97%, Val Acc=62.15%\n",
            "Raw RNN (With Aug) | Epoch 90: Train Loss=4.1648, Train Acc=99.01%, Val Acc=61.04%\n",
            "Raw RNN (With Aug) | Epoch 91: Train Loss=6.3411, Train Acc=97.87%, Val Acc=58.83%\n",
            "Raw RNN (With Aug) | Epoch 92: Train Loss=31.4788, Train Acc=88.07%, Val Acc=61.36%\n",
            "Raw RNN (With Aug) | Epoch 93: Train Loss=11.3075, Train Acc=95.22%, Val Acc=63.25%\n",
            "Raw RNN (With Aug) | Epoch 94: Train Loss=5.2810, Train Acc=98.34%, Val Acc=63.09%\n",
            "Raw RNN (With Aug) | Epoch 95: Train Loss=4.3272, Train Acc=99.13%, Val Acc=61.83%\n",
            "Raw RNN (With Aug) | Epoch 96: Train Loss=3.7778, Train Acc=99.37%, Val Acc=62.46%\n",
            "Raw RNN (With Aug) | Epoch 97: Train Loss=4.9321, Train Acc=98.70%, Val Acc=62.78%\n",
            "Raw RNN (With Aug) | Epoch 98: Train Loss=3.1807, Train Acc=99.29%, Val Acc=62.30%\n",
            "Raw RNN (With Aug) | Epoch 99: Train Loss=3.0008, Train Acc=99.41%, Val Acc=62.62%\n",
            "Raw RNN (With Aug) | Epoch 100: Train Loss=2.6259, Train Acc=99.72%, Val Acc=62.30%\n"
          ]
        }
      ]
    },
    {
      "cell_type": "code",
      "source": [
        "evaluate(model_rnn_noaug, val_loader_raw, accent_val, gender_val)\n",
        "evaluate(model_rnn_aug, val_loader_raw, accent_val, gender_val)"
      ],
      "metadata": {
        "id": "gLLQ5AOzX45y",
        "colab": {
          "base_uri": "https://localhost:8080/"
        },
        "outputId": "59c45bf9-63a2-47f6-d76b-5ed5a68d8087"
      },
      "execution_count": 73,
      "outputs": [
        {
          "output_type": "stream",
          "name": "stdout",
          "text": [
            "\n",
            " Accuracy per Accent:\n",
            "Accent 1: 81.08%\n",
            "Accent 2: 39.20%\n",
            "Accent 3: 61.95%\n",
            "Accent 4: 66.23%\n",
            "Accent 5: 42.27%\n",
            "\n",
            " Accuracy per Gender:\n",
            "Male: 62.09%\n",
            "Female: 57.93%\n",
            "\n",
            " Overall Accuracy: 59.94%\n",
            "\n",
            " Accuracy per Accent:\n",
            "Accent 1: 86.49%\n",
            "Accent 2: 49.60%\n",
            "Accent 3: 58.41%\n",
            "Accent 4: 60.26%\n",
            "Accent 5: 49.48%\n",
            "\n",
            " Accuracy per Gender:\n",
            "Male: 64.05%\n",
            "Female: 60.67%\n",
            "\n",
            " Overall Accuracy: 62.30%\n"
          ]
        }
      ]
    },
    {
      "cell_type": "markdown",
      "source": [
        "RNN Results"
      ],
      "metadata": {
        "id": "QcDCBv41xSlX"
      }
    },
    {
      "cell_type": "code",
      "source": [
        "import os\n",
        "from glob import glob\n",
        "\n",
        "TEST_PATH = \"/content/drive/MyDrive/DL/Test\"\n",
        "test_files = sorted(glob(os.path.join(TEST_PATH, \"*.wav\")))\n",
        "print(f\"{len(test_files)} test files found.\")"
      ],
      "metadata": {
        "id": "PcE48pUxvVs_",
        "colab": {
          "base_uri": "https://localhost:8080/"
        },
        "outputId": "91c595cd-e45c-4bd4-c01a-1f1d4014661b"
      },
      "execution_count": 74,
      "outputs": [
        {
          "output_type": "stream",
          "name": "stdout",
          "text": [
            "551 test files found.\n"
          ]
        }
      ]
    },
    {
      "cell_type": "code",
      "source": [
        "import librosa\n",
        "import torch\n",
        "\n",
        "#Sampling rate and fixed length for consistency of the test data\n",
        "SAMPLE_RATE = 16000\n",
        "FIXED_RAW_LENGTH = 64000    #4 seconds of audio at 16kHz\n",
        "\n",
        "#Test set preprocessing\n",
        "def preprocess_raw(file_path):\n",
        "    signal, sr = librosa.load(file_path, sr=SAMPLE_RATE)  #Loading data at sample rate\n",
        "\n",
        "    if len(signal) < FIXED_RAW_LENGTH:\n",
        "        signal = np.pad(signal, (0, FIXED_RAW_LENGTH - len(signal)))   #Padding and trimming signal to fixed length\n",
        "    else:\n",
        "        signal = signal[:FIXED_RAW_LENGTH]\n",
        "\n",
        "    signal = (signal - np.mean(signal)) / np.std(signal)   #Normalising the data\n",
        "    signal_tensor = torch.tensor(signal, dtype=torch.float32)    #Converting the tensors\n",
        "    frames = signal_tensor.unfold(0, 400, 160)    #Fixing the audio for RNN input"
      ],
      "metadata": {
        "id": "9ygHmVh2vYWb"
      },
      "execution_count": 75,
      "outputs": []
    },
    {
      "cell_type": "code",
      "source": [
        "model_rnn_aug.eval()  #Evaluation model over test data\n",
        "all_preds = []  #List for predictions\n",
        "\n",
        "with torch.no_grad():\n",
        "    for path in test_files:\n",
        "        x = preprocess_raw(path).unsqueeze(0).to(device)  #Preprocesses the file into RNN imput and moves to device\n",
        "        output = model_rnn_aug(x)   #Forward pass to get output logits\n",
        "        pred = output.argmax(dim=1).item()  #Getting output predictions\n",
        "        all_preds.append(pred + 1)  #Append prediction to list"
      ],
      "metadata": {
        "id": "3A-WCcyBxVi9"
      },
      "execution_count": 76,
      "outputs": []
    },
    {
      "cell_type": "code",
      "source": [
        "import pandas as pd\n",
        "\n",
        "#Saving the RNN predictions for submission as CSV file\n",
        "submission = pd.DataFrame({\n",
        "    \"filename\": [os.path.basename(f) for f in test_files],\n",
        "    \"predicted_accent\": all_preds\n",
        "})\n",
        "\n",
        "submission.to_csv(\"rnn_predictions.csv\", index=False)\n",
        "print(\"Saved predictions to rnn_predictions.csv\")"
      ],
      "metadata": {
        "id": "M7-1C0EtxWIc",
        "colab": {
          "base_uri": "https://localhost:8080/"
        },
        "outputId": "03524065-0906-4d03-c89d-8e739c501d40"
      },
      "execution_count": 77,
      "outputs": [
        {
          "output_type": "stream",
          "name": "stdout",
          "text": [
            "Saved predictions to rnn_predictions.csv\n"
          ]
        }
      ]
    },
    {
      "cell_type": "markdown",
      "source": [
        "Transformer Results"
      ],
      "metadata": {
        "id": "CNOF4wGcxs3l"
      }
    },
    {
      "cell_type": "code",
      "source": [
        "import numpy as np\n",
        "import librosa\n",
        "\n",
        "def preprocess_mel(file_path, sample_rate=16000, n_mels=64, max_len=None):\n",
        "    signal, sr = librosa.load(file_path, sr=sample_rate)  #Loads and preprocesses the test data to sample rate\n",
        "\n",
        "    mel = librosa.feature.melspectrogram(     #Computing Mel spectograms in default\n",
        "        y=signal,\n",
        "        sr=sr,\n",
        "        n_fft=1024,\n",
        "        hop_length=512,\n",
        "        n_mels=n_mels\n",
        "    )\n",
        "    mel_db = librosa.power_to_db(mel, ref=np.max)   #Converting to decibel scale for better range\n",
        "\n",
        "    if max_len is not None:    #Padding and trimming in case of a specified max length\n",
        "        if mel_db.shape[1] < max_len:\n",
        "            pad_width = max_len - mel_db.shape[1]\n",
        "            mel_db = np.pad(mel_db, ((0, 0), (0, pad_width)), mode='constant')\n",
        "        else:\n",
        "            mel_db = mel_db[:, :max_len]\n",
        "\n",
        "    return mel_db"
      ],
      "metadata": {
        "id": "fFut21ipxZb2"
      },
      "execution_count": 78,
      "outputs": []
    },
    {
      "cell_type": "code",
      "source": [
        "max_len = X_mel_spectrogram.shape[-1]"
      ],
      "metadata": {
        "id": "ov-KFV8qxcsA"
      },
      "execution_count": 79,
      "outputs": []
    },
    {
      "cell_type": "code",
      "source": [
        "model_aug.eval()   #Evaluating model on test dataset\n",
        "mel_preds = []   #List to store pedictions for each test data\n",
        "\n",
        "with torch.no_grad():\n",
        "    for path in test_files:\n",
        "        mel = preprocess_mel(path, max_len=max_len)\n",
        "        mel_tensor = torch.tensor(mel.T, dtype=torch.float32).unsqueeze(0).to(device)\n",
        "\n",
        "        output = model_aug(mel_tensor)\n",
        "        pred = output.argmax(dim=1).item()\n",
        "        mel_preds.append(pred + 1)"
      ],
      "metadata": {
        "id": "uXcPIJ-8xevR"
      },
      "execution_count": 80,
      "outputs": []
    },
    {
      "cell_type": "code",
      "source": [
        "import pandas as pd\n",
        "\n",
        "#Saving Transformer predictions as CSV for submission\n",
        "submission_mel = pd.DataFrame({\n",
        "    \"filename\": [os.path.basename(f) for f in test_files],\n",
        "    \"predicted_accent\": mel_preds\n",
        "})\n",
        "\n",
        "submission_mel.to_csv(\"transformer_predictions.csv\", index=False)\n",
        "print(\"Saved Transformer predictions to transformer_predictions.csv\")"
      ],
      "metadata": {
        "id": "Hkab8phGxg8W",
        "colab": {
          "base_uri": "https://localhost:8080/"
        },
        "outputId": "551b780b-ee4b-478f-f9b3-52dd02b8c397"
      },
      "execution_count": 81,
      "outputs": [
        {
          "output_type": "stream",
          "name": "stdout",
          "text": [
            "Saved Transformer predictions to transformer_predictions.csv\n"
          ]
        }
      ]
    },
    {
      "cell_type": "markdown",
      "source": [
        "Gender Bias In Model Predictions"
      ],
      "metadata": {
        "id": "-krU4mEqAbia"
      }
    },
    {
      "cell_type": "code",
      "source": [
        "from sklearn.metrics import accuracy_score, f1_score\n",
        "import numpy as np\n",
        "\n",
        "model_rnn_aug.eval()\n",
        "all_preds_rnn, all_targets_rnn = [], []\n",
        "\n",
        "with torch.no_grad():\n",
        "    for inputs, targets in val_loader_raw:\n",
        "        inputs, targets = inputs.to(device), targets.to(device)\n",
        "        outputs = model_rnn_aug(inputs)\n",
        "        preds = outputs.argmax(dim=1)\n",
        "        all_preds_rnn.extend(preds.cpu().numpy())\n",
        "        all_targets_rnn.extend(targets.cpu().numpy())\n",
        "\n",
        "all_preds_rnn = np.array(all_preds_rnn)\n",
        "all_targets_rnn = np.array(all_targets_rnn)\n",
        "gender_rnn = gender_val.numpy()\n",
        "\n",
        "print(\"Gender Evaluation – Raw RNN (Augmented):\")\n",
        "for g in [0, 1]:\n",
        "    gender_name = \"Male\" if g == 0 else \"Female\"\n",
        "    indices = np.where(gender_rnn == g)[0]\n",
        "    acc = accuracy_score(all_targets_rnn[indices], all_preds_rnn[indices])\n",
        "    f1 = f1_score(all_targets_rnn[indices], all_preds_rnn[indices], average='macro')\n",
        "    print(f\"{gender_name}: Accuracy = {acc * 100:.2f}%, Macro F1 = {f1:.4f}\")"
      ],
      "metadata": {
        "id": "ql3_aMDaAgRX",
        "colab": {
          "base_uri": "https://localhost:8080/"
        },
        "outputId": "d868b8f3-c2f1-4f17-9343-6a08c33ffc28"
      },
      "execution_count": 82,
      "outputs": [
        {
          "output_type": "stream",
          "name": "stdout",
          "text": [
            "Gender Evaluation – Raw RNN (Augmented):\n",
            "Male: Accuracy = 64.05%, Macro F1 = 0.6365\n",
            "Female: Accuracy = 60.67%, Macro F1 = 0.5895\n"
          ]
        }
      ]
    },
    {
      "cell_type": "code",
      "source": [
        "model_aug.eval()\n",
        "all_preds_trans, all_targets_trans = [], []\n",
        "\n",
        "with torch.no_grad():\n",
        "    for inputs, targets in val_loader:\n",
        "        inputs, targets = inputs.to(device), targets.to(device)\n",
        "        outputs = model_aug(inputs)\n",
        "        preds = outputs.argmax(dim=1)\n",
        "        all_preds_trans.extend(preds.cpu().numpy())\n",
        "        all_targets_trans.extend(targets.cpu().numpy())\n",
        "\n",
        "all_preds_trans = np.array(all_preds_trans)\n",
        "all_targets_trans = np.array(all_targets_trans)\n",
        "gender_trans = gender_val.numpy()\n",
        "\n",
        "print(\"Gender Evaluation – Transformer (Augmented):\")\n",
        "for g in [0, 1]:\n",
        "    gender_name = \"Male\" if g == 0 else \"Female\"\n",
        "    indices = np.where(gender_trans == g)[0]\n",
        "    acc = accuracy_score(all_targets_trans[indices], all_preds_trans[indices])\n",
        "    f1 = f1_score(all_targets_trans[indices], all_preds_trans[indices], average='macro')\n",
        "    print(f\"{gender_name}: Accuracy = {acc * 100:.2f}%, Macro F1 = {f1:.4f}\")"
      ],
      "metadata": {
        "id": "SPsxI8fMK7ol",
        "colab": {
          "base_uri": "https://localhost:8080/"
        },
        "outputId": "841721fc-cceb-47c5-bf24-ff4be9c626c9"
      },
      "execution_count": 83,
      "outputs": [
        {
          "output_type": "stream",
          "name": "stdout",
          "text": [
            "Gender Evaluation – Transformer (Augmented):\n",
            "Male: Accuracy = 86.93%, Macro F1 = 0.8632\n",
            "Female: Accuracy = 83.23%, Macro F1 = 0.8172\n"
          ]
        }
      ]
    },
    {
      "cell_type": "markdown",
      "source": [
        "Accuracy, Precision, Recall & F1 Score Analysis: Augmented Transformer Model"
      ],
      "metadata": {
        "id": "iiuum-KV65Sj"
      }
    },
    {
      "cell_type": "code",
      "source": [
        "from sklearn.metrics import precision_score, recall_score\n",
        "\n",
        "model_aug.eval()\n",
        "all_preds, all_targets = [], []\n",
        "\n",
        "#Evaluating the Augmented Transformer model accent classification over test data\n",
        "with torch.no_grad():\n",
        "    for inputs, targets in val_loader:\n",
        "        inputs, targets = inputs.to(device), targets.to(device)\n",
        "        outputs = model_aug(inputs)\n",
        "        preds = outputs.argmax(dim=1)\n",
        "        all_preds.extend(preds.cpu().numpy())\n",
        "        all_targets.extend(targets.cpu().numpy())\n",
        "\n",
        "all_preds = np.array(all_preds)\n",
        "all_targets = np.array(all_targets)\n",
        "\n",
        "final_accuracy = accuracy_score(all_targets, all_preds)\n",
        "macro_f1 = f1_score(all_targets, all_preds, average='macro')\n",
        "macro_precision = precision_score(all_targets, all_preds, average='macro')\n",
        "macro_recall = recall_score(all_targets, all_preds, average='macro')\n",
        "\n",
        "print(f\"Validation Accuracy: {final_accuracy * 100:.2f}%\")\n",
        "print(f\"Macro F1 Score:       {macro_f1:.4f}\")\n",
        "print(f\"Macro Precision:      {macro_precision:.4f}\")\n",
        "print(f\"Macro Recall:         {macro_recall:.4f}\")\n",
        "\n",
        "print(\"\\nPer-Class Scores:\")\n",
        "f1s = f1_score(all_targets, all_preds, average=None)\n",
        "precisions = precision_score(all_targets, all_preds, average=None)\n",
        "recalls = recall_score(all_targets, all_preds, average=None)\n",
        "\n",
        "for i in range(len(f1s)):\n",
        "    print(f\"Class {i+1}: Precision={precisions[i]:.4f}, Recall={recalls[i]:.4f}, F1={f1s[i]:.4f}\")"
      ],
      "metadata": {
        "id": "Df29HiBU6zmS",
        "colab": {
          "base_uri": "https://localhost:8080/"
        },
        "outputId": "0c1c387a-c3f2-435b-be7d-3afc83d799d0"
      },
      "execution_count": 84,
      "outputs": [
        {
          "output_type": "stream",
          "name": "stdout",
          "text": [
            "Validation Accuracy: 85.02%\n",
            "Macro F1 Score:       0.8392\n",
            "Macro Precision:      0.8528\n",
            "Macro Recall:         0.8382\n",
            "\n",
            "Per-Class Scores:\n",
            "Class 1: Precision=0.9605, Recall=0.9865, F1=0.9733\n",
            "Class 2: Precision=0.7468, Recall=0.9440, F1=0.8339\n",
            "Class 3: Precision=0.9881, Recall=0.7345, F1=0.8426\n",
            "Class 4: Precision=0.8786, Recall=0.8146, F1=0.8454\n",
            "Class 5: Precision=0.6900, Recall=0.7113, F1=0.7005\n"
          ]
        }
      ]
    },
    {
      "cell_type": "markdown",
      "source": [
        "Accuracy, Precision, Recall & F1 Score Analysis: Non-Augmented Transformer Model"
      ],
      "metadata": {
        "id": "BAGnNCk9AEuQ"
      }
    },
    {
      "cell_type": "code",
      "source": [
        "model_no_aug.eval()\n",
        "all_preds, all_targets = [], []\n",
        "\n",
        "#Evaluating the Non-Augmented Transformer model accent classification over test data\n",
        "with torch.no_grad():\n",
        "    for inputs, targets in val_loader:\n",
        "        inputs, targets = inputs.to(device), targets.to(device)\n",
        "        outputs = model_no_aug(inputs)\n",
        "        preds = outputs.argmax(dim=1)\n",
        "        all_preds.extend(preds.cpu().numpy())\n",
        "        all_targets.extend(targets.cpu().numpy())\n",
        "\n",
        "all_preds = np.array(all_preds)\n",
        "all_targets = np.array(all_targets)\n",
        "\n",
        "t_noaug_accuracy = accuracy_score(all_targets, all_preds)\n",
        "t_noaug_f1 = f1_score(all_targets, all_preds, average='macro')\n",
        "t_noaug_precision = precision_score(all_targets, all_preds, average='macro')\n",
        "t_noaug_recall = recall_score(all_targets, all_preds, average='macro')\n",
        "\n",
        "print(f\"Accuracy       : {t_noaug_accuracy * 100:.2f}%\")\n",
        "print(f\"Macro F1       : {t_noaug_f1:.4f}\")\n",
        "print(f\"Macro Precision: {t_noaug_precision:.4f}\")\n",
        "print(f\"Macro Recall   : {t_noaug_recall:.4f}\")\n",
        "\n",
        "print(\"\\nPer-Class Scores:\")\n",
        "f1s = f1_score(all_targets, all_preds, average=None)\n",
        "precisions = precision_score(all_targets, all_preds, average=None)\n",
        "recalls = recall_score(all_targets, all_preds, average=None)\n",
        "\n",
        "for i in range(len(f1s)):\n",
        "    print(f\"Class {i+1}: Precision={precisions[i]:.4f}, Recall={recalls[i]:.4f}, F1={f1s[i]:.4f}\")"
      ],
      "metadata": {
        "id": "gIGKa8c7Ah5M",
        "colab": {
          "base_uri": "https://localhost:8080/"
        },
        "outputId": "be3011d5-890b-40aa-a15d-0ef71f8102b5"
      },
      "execution_count": 85,
      "outputs": [
        {
          "output_type": "stream",
          "name": "stdout",
          "text": [
            "Accuracy       : 88.49%\n",
            "Macro F1       : 0.8770\n",
            "Macro Precision: 0.8786\n",
            "Macro Recall   : 0.8759\n",
            "\n",
            "Per-Class Scores:\n",
            "Class 1: Precision=0.9735, Recall=0.9932, F1=0.9833\n",
            "Class 2: Precision=0.9000, Recall=0.8640, F1=0.8816\n",
            "Class 3: Precision=0.9259, Recall=0.8850, F1=0.9050\n",
            "Class 4: Precision=0.8462, Recall=0.8742, F1=0.8599\n",
            "Class 5: Precision=0.7475, Recall=0.7629, F1=0.7551\n"
          ]
        }
      ]
    },
    {
      "cell_type": "markdown",
      "source": [
        "Accuracy, Precision, Recall & F1 Score Analysis: Augmented RNN Model"
      ],
      "metadata": {
        "id": "qMWhfP_VAJ16"
      }
    },
    {
      "cell_type": "code",
      "source": [
        "model = model_rnn_aug\n",
        "val_loader = val_loader_raw\n",
        "\n",
        "#Evaluating the Augmented RNN model accent classification over test data\n",
        "model.eval()\n",
        "all_preds, all_targets = [], []\n",
        "\n",
        "with torch.no_grad():\n",
        "    for inputs, targets in val_loader:\n",
        "        inputs, targets = inputs.to(device), targets.to(device)\n",
        "        outputs = model(inputs)\n",
        "        preds = outputs.argmax(dim=1)\n",
        "        all_preds.extend(preds.cpu().numpy())\n",
        "        all_targets.extend(targets.cpu().numpy())\n",
        "\n",
        "all_preds = np.array(all_preds)\n",
        "all_targets = np.array(all_targets)\n",
        "\n",
        "\n",
        "accuracy = accuracy_score(all_targets, all_preds)\n",
        "macro_f1 = f1_score(all_targets, all_preds, average='macro')\n",
        "macro_precision = precision_score(all_targets, all_preds, average='macro')\n",
        "macro_recall = recall_score(all_targets, all_preds, average='macro')\n",
        "\n",
        "print(f\"\\nMetrics for Raw RNN (No Augmentation):\")\n",
        "print(f\"Accuracy       : {accuracy * 100:.2f}%\")\n",
        "print(f\"Macro F1 Score : {macro_f1:.4f}\")\n",
        "print(f\"Macro Precision: {macro_precision:.4f}\")\n",
        "print(f\"Macro Recall   : {macro_recall:.4f}\")\n",
        "\n",
        "f1s = f1_score(all_targets, all_preds, average=None)\n",
        "precisions = precision_score(all_targets, all_preds, average=None)\n",
        "recalls = recall_score(all_targets, all_preds, average=None)\n",
        "\n",
        "print(\"\\nPer-Class Scores:\")\n",
        "for i in range(len(f1s)):\n",
        "    print(f\"Class {i+1}: Precision={precisions[i]:.4f}, Recall={recalls[i]:.4f}, F1={f1s[i]:.4f}\")"
      ],
      "metadata": {
        "id": "r-CkhWYXAic3",
        "colab": {
          "base_uri": "https://localhost:8080/"
        },
        "outputId": "a1276e91-04cf-4381-9de2-9ebdb595dcda"
      },
      "execution_count": 88,
      "outputs": [
        {
          "output_type": "stream",
          "name": "stdout",
          "text": [
            "\n",
            "Metrics for Raw RNN (No Augmentation):\n",
            "Accuracy       : 62.30%\n",
            "Macro F1 Score : 0.6139\n",
            "Macro Precision: 0.6245\n",
            "Macro Recall   : 0.6085\n",
            "\n",
            "Per-Class Scores:\n",
            "Class 1: Precision=0.9552, Recall=0.8649, F1=0.9078\n",
            "Class 2: Precision=0.5586, Recall=0.4960, F1=0.5254\n",
            "Class 3: Precision=0.6667, Recall=0.5841, F1=0.6226\n",
            "Class 4: Precision=0.5056, Recall=0.6026, F1=0.5498\n",
            "Class 5: Precision=0.4364, Recall=0.4948, F1=0.4638\n"
          ]
        }
      ]
    },
    {
      "cell_type": "markdown",
      "source": [
        "Accuracy, Precision, Recall & F1 Score Analysis: Non-Augmented RNN Model"
      ],
      "metadata": {
        "id": "xquGW1m3AOMk"
      }
    },
    {
      "cell_type": "code",
      "source": [
        "model = model_rnn_noaug\n",
        "val_loader = val_loader_raw\n",
        "\n",
        "#Evaluating the RNN model for accent classification over the test set\n",
        "model.eval()\n",
        "all_preds, all_targets = [], []\n",
        "\n",
        "with torch.no_grad():\n",
        "    for inputs, targets in val_loader:\n",
        "        inputs, targets = inputs.to(device), targets.to(device)\n",
        "        outputs = model(inputs)\n",
        "        preds = outputs.argmax(dim=1)\n",
        "        all_preds.extend(preds.cpu().numpy())\n",
        "        all_targets.extend(targets.cpu().numpy())\n",
        "\n",
        "all_preds = np.array(all_preds)\n",
        "all_targets = np.array(all_targets)\n",
        "\n",
        "\n",
        "accuracy = accuracy_score(all_targets, all_preds)\n",
        "macro_f1 = f1_score(all_targets, all_preds, average='macro')\n",
        "macro_precision = precision_score(all_targets, all_preds, average='macro')\n",
        "macro_recall = recall_score(all_targets, all_preds, average='macro')\n",
        "\n",
        "print(f\"\\nMetrics for Raw RNN (No Augmentation):\")\n",
        "print(f\"Accuracy       : {accuracy * 100:.2f}%\")\n",
        "print(f\"Macro F1 Score : {macro_f1:.4f}\")\n",
        "print(f\"Macro Precision: {macro_precision:.4f}\")\n",
        "print(f\"Macro Recall   : {macro_recall:.4f}\")\n",
        "\n",
        "f1s = f1_score(all_targets, all_preds, average=None)\n",
        "precisions = precision_score(all_targets, all_preds, average=None)\n",
        "recalls = recall_score(all_targets, all_preds, average=None)\n",
        "\n",
        "print(\"\\nPer-Class Scores:\")\n",
        "for i in range(len(f1s)):\n",
        "    print(f\"Class {i+1}: Precision={precisions[i]:.4f}, Recall={recalls[i]:.4f}, F1={f1s[i]:.4f}\")"
      ],
      "metadata": {
        "id": "wUL3y-8gAjBT",
        "colab": {
          "base_uri": "https://localhost:8080/"
        },
        "outputId": "d28ab965-e57a-4c33-ae61-ef137fb85835"
      },
      "execution_count": 87,
      "outputs": [
        {
          "output_type": "stream",
          "name": "stdout",
          "text": [
            "\n",
            "Metrics for Raw RNN (No Augmentation):\n",
            "Accuracy       : 59.94%\n",
            "Macro F1 Score : 0.5866\n",
            "Macro Precision: 0.6070\n",
            "Macro Recall   : 0.5814\n",
            "\n",
            "Per-Class Scores:\n",
            "Class 1: Precision=0.9375, Recall=0.8108, F1=0.8696\n",
            "Class 2: Precision=0.5632, Recall=0.3920, F1=0.4623\n",
            "Class 3: Precision=0.6087, Recall=0.6195, F1=0.6140\n",
            "Class 4: Precision=0.4651, Recall=0.6623, F1=0.5464\n",
            "Class 5: Precision=0.4607, Recall=0.4227, F1=0.4409\n"
          ]
        }
      ]
    }
  ]
}